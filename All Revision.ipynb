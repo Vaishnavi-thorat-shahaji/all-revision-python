{
 "cells": [
  {
   "cell_type": "code",
   "execution_count": 2,
   "id": "7c59b8a1",
   "metadata": {},
   "outputs": [
    {
     "data": {
      "text/plain": [
       "-20"
      ]
     },
     "execution_count": 2,
     "metadata": {},
     "output_type": "execute_result"
    }
   ],
   "source": [
    "a = 10\n",
    "b = 20\n",
    "a+b\n",
    "a = 10\n",
    "b= 30\n",
    "a-b"
   ]
  },
  {
   "cell_type": "code",
   "execution_count": 7,
   "id": "62591e1d",
   "metadata": {},
   "outputs": [
    {
     "name": "stdout",
     "output_type": "stream",
     "text": [
      "30\n",
      "-10\n",
      "200\n",
      "0.5\n"
     ]
    }
   ],
   "source": [
    "a = 10\n",
    "b = 20\n",
    "c =a+b\n",
    "print(c)\n",
    "c = a-b\n",
    "print(c)\n",
    "c = a*b\n",
    "print(c)\n",
    "c = a/b\n",
    "print(c)"
   ]
  },
  {
   "cell_type": "code",
   "execution_count": 8,
   "id": "1332deba",
   "metadata": {},
   "outputs": [
    {
     "name": "stdout",
     "output_type": "stream",
     "text": [
      "lili\n"
     ]
    }
   ],
   "source": [
    "a = 'lili'\n",
    "print(a)"
   ]
  },
  {
   "cell_type": "code",
   "execution_count": 25,
   "id": "4a88b3d2",
   "metadata": {},
   "outputs": [
    {
     "name": "stdout",
     "output_type": "stream",
     "text": [
      "<class 'int'>\n",
      "10\n",
      "<class 'float'>\n",
      "1.1\n",
      "<class 'complex'>\n",
      "(3+4j)\n",
      "<class 'str'>\n",
      "lili\n",
      "<class 'bool'>\n",
      "<class 'bool'>\n",
      "<class 'dict'>\n",
      "<class 'list'>\n",
      "[1, 2, 3, 4, 5]\n",
      "<class 'tuple'>\n",
      "(1, 2, 3, 4, 5, 6, 7)\n",
      "<class 'set'>\n",
      "{33, 66, 22, 55, 11, 44}\n",
      "<class 'frozenset'>\n",
      "frozenset({33, 66, 22, 55, 11, 44})\n"
     ]
    }
   ],
   "source": [
    "a = 10\n",
    "print(type(a))\n",
    "print(a)\n",
    "b = 1.1\n",
    "print(type(b))\n",
    "print(b)\n",
    "c = 3+4j\n",
    "print(type(c))\n",
    "print(c)\n",
    "d = 'lili'\n",
    "print(type(d))\n",
    "print(d)\n",
    "a = True\n",
    "print(type(a))\n",
    "b = False\n",
    "print(type(b))\n",
    "dict = {\n",
    "    'name':'lili',\n",
    "    'sub': 'cs'\n",
    "}\n",
    "print(type(dict))\n",
    "list = [1,2,3,4,5]\n",
    "print(type(list))\n",
    "print(list)\n",
    "tup = (1,2,3,4,5,6,7)\n",
    "print(type(tup))\n",
    "print(tup)\n",
    "set = {11,22,33,44,55,66}\n",
    "print(type(set))\n",
    "print(set)\n",
    "s = frozenset(set)\n",
    "print(type(s))\n",
    "print(s)\n"
   ]
  },
  {
   "cell_type": "markdown",
   "id": "45de3564",
   "metadata": {},
   "source": [
    "### typecasting"
   ]
  },
  {
   "cell_type": "code",
   "execution_count": 26,
   "id": "6cfd9ffe",
   "metadata": {},
   "outputs": [
    {
     "name": "stdout",
     "output_type": "stream",
     "text": [
      "<class 'int'>\n",
      "10\n",
      "<class 'float'>\n",
      "10.0\n"
     ]
    }
   ],
   "source": [
    "a = 10\n",
    "print(type(a))\n",
    "print(a)\n",
    "a_f = float(a)\n",
    "print(type(a_f))\n",
    "print(a_f)"
   ]
  },
  {
   "cell_type": "code",
   "execution_count": 32,
   "id": "26f817a3",
   "metadata": {},
   "outputs": [
    {
     "name": "stdout",
     "output_type": "stream",
     "text": [
      "<class 'str'>\n",
      "100.4\n",
      "<class 'float'>\n",
      "100.4\n"
     ]
    }
   ],
   "source": [
    "a = '100.4'\n",
    "print(type(a))\n",
    "print(a)\n",
    "a_f = float(a)\n",
    "print(type(a_f))\n",
    "print(a_f)"
   ]
  },
  {
   "cell_type": "code",
   "execution_count": 29,
   "id": "3ade2f7f",
   "metadata": {},
   "outputs": [
    {
     "name": "stdout",
     "output_type": "stream",
     "text": [
      "<class 'float'>\n",
      "10.5\n",
      "<class 'int'>\n",
      "10\n"
     ]
    }
   ],
   "source": [
    "x= 10.5\n",
    "print(type(x))\n",
    "print(x)\n",
    "x_i = int(x)\n",
    "print(type(x_i))\n",
    "print(x_i)"
   ]
  },
  {
   "cell_type": "code",
   "execution_count": 33,
   "id": "11f1fe00",
   "metadata": {},
   "outputs": [
    {
     "name": "stdout",
     "output_type": "stream",
     "text": [
      "<class 'str'>\n",
      "900\n",
      "<class 'float'>\n",
      "900.0\n",
      "<class 'int'>\n",
      "900\n"
     ]
    }
   ],
   "source": [
    "a = '900'\n",
    "print(type(a))\n",
    "print(a)\n",
    "a_f = float(a)\n",
    "print(type(a_f))\n",
    "print(a_f)\n",
    "a_i = int(a)\n",
    "print(type(a_i))\n",
    "print(a_i)"
   ]
  },
  {
   "cell_type": "code",
   "execution_count": 36,
   "id": "72e785e6",
   "metadata": {},
   "outputs": [
    {
     "name": "stdout",
     "output_type": "stream",
     "text": [
      "10\n",
      "<class 'int'>\n",
      "<class 'str'>\n",
      "10\n"
     ]
    }
   ],
   "source": [
    "a =10\n",
    "\n",
    "print(a)\n",
    "print(type(a))\n",
    "x = str(a)\n",
    "print(type(x))\n",
    "print(x)"
   ]
  },
  {
   "cell_type": "code",
   "execution_count": 37,
   "id": "57014bf4",
   "metadata": {},
   "outputs": [
    {
     "name": "stdout",
     "output_type": "stream",
     "text": [
      "<class 'float'>\n",
      "20.3\n",
      "<class 'str'>\n",
      "20.3\n"
     ]
    }
   ],
   "source": [
    "b = 20.3\n",
    "print(type(b))\n",
    "print(b)\n",
    "b_str = str(b)\n",
    "print(type(b_str))\n",
    "print(b_str)"
   ]
  },
  {
   "cell_type": "code",
   "execution_count": 38,
   "id": "35e94c29",
   "metadata": {},
   "outputs": [
    {
     "name": "stdout",
     "output_type": "stream",
     "text": [
      "<class 'complex'>\n",
      "(10+3j)\n",
      "<class 'str'>\n",
      "(10+3j)\n"
     ]
    }
   ],
   "source": [
    "c = 10+3j\n",
    "print(type(c))\n",
    "print(c)\n",
    "c_str = str(c)\n",
    "print(type(c_str))\n",
    "print(c_str)"
   ]
  },
  {
   "cell_type": "code",
   "execution_count": 39,
   "id": "95ab8ff0",
   "metadata": {},
   "outputs": [
    {
     "name": "stdout",
     "output_type": "stream",
     "text": [
      "(2+3j)\n",
      "2.0\n",
      "3.0\n"
     ]
    }
   ],
   "source": [
    "a = complex(2,3)\n",
    "print(a)\n",
    "print(a.real)\n",
    "print(a.imag)"
   ]
  },
  {
   "cell_type": "code",
   "execution_count": 40,
   "id": "991a9fef",
   "metadata": {},
   "outputs": [
    {
     "name": "stdout",
     "output_type": "stream",
     "text": [
      "<class 'complex'>\n",
      "200.0\n",
      "0.0\n"
     ]
    }
   ],
   "source": [
    "a = '200'\n",
    "b = complex(a)\n",
    "print(type(b))\n",
    "print(b.real)\n",
    "print(b.imag)"
   ]
  },
  {
   "cell_type": "code",
   "execution_count": 41,
   "id": "2483583a",
   "metadata": {},
   "outputs": [
    {
     "name": "stdout",
     "output_type": "stream",
     "text": [
      "(100+0j)\n",
      "(200+0j)\n"
     ]
    }
   ],
   "source": [
    "a = '100'\n",
    "b = complex(a)\n",
    "print(b)\n",
    "x = '200'\n",
    "c = complex(x)\n",
    "print(c)"
   ]
  },
  {
   "cell_type": "code",
   "execution_count": 42,
   "id": "bc09cc59",
   "metadata": {},
   "outputs": [
    {
     "name": "stdout",
     "output_type": "stream",
     "text": [
      "(100+0j)\n"
     ]
    }
   ],
   "source": [
    "a = '100'\n",
    "b = complex(a)\n",
    "print(b)"
   ]
  },
  {
   "cell_type": "code",
   "execution_count": 43,
   "id": "134fcf8d",
   "metadata": {},
   "outputs": [
    {
     "name": "stdout",
     "output_type": "stream",
     "text": [
      "<class 'complex'>\n",
      "4.0\n",
      "5.0\n"
     ]
    }
   ],
   "source": [
    "a = complex(4,5)\n",
    "print(type(a))\n",
    "print(a.real)\n",
    "print(a.imag)"
   ]
  },
  {
   "cell_type": "code",
   "execution_count": 44,
   "id": "7294e763",
   "metadata": {},
   "outputs": [
    {
     "name": "stdout",
     "output_type": "stream",
     "text": [
      "<class 'str'>\n",
      "3+6j\n",
      "<class 'complex'>\n",
      "3.0\n",
      "6.0\n"
     ]
    }
   ],
   "source": [
    "a = '3+6j'\n",
    "print(type(a))\n",
    "print(a)\n",
    "b = complex(a)\n",
    "print(type(b))\n",
    "print(b.real)\n",
    "print(b.imag)"
   ]
  },
  {
   "cell_type": "code",
   "execution_count": 46,
   "id": "047f182f",
   "metadata": {},
   "outputs": [
    {
     "name": "stdout",
     "output_type": "stream",
     "text": [
      "<class 'str'>\n",
      "4+7j\n",
      "<class 'complex'>\n",
      "4.0\n",
      "7.0\n"
     ]
    }
   ],
   "source": [
    "a = '4+7j'\n",
    "print(type(a))\n",
    "print(a)\n",
    "b = complex(a)\n",
    "print(type(b))\n",
    "print(b.real)\n",
    "print(b.imag)\n"
   ]
  },
  {
   "cell_type": "code",
   "execution_count": 47,
   "id": "32781af1",
   "metadata": {},
   "outputs": [
    {
     "name": "stdout",
     "output_type": "stream",
     "text": [
      "True\n"
     ]
    }
   ],
   "source": [
    "a = True\n",
    "print(a)"
   ]
  },
  {
   "cell_type": "code",
   "execution_count": 49,
   "id": "31f02333",
   "metadata": {},
   "outputs": [
    {
     "name": "stdout",
     "output_type": "stream",
     "text": [
      "True\n"
     ]
    }
   ],
   "source": [
    "a = False\n",
    "a = True\n",
    "print(a)\n"
   ]
  },
  {
   "cell_type": "code",
   "execution_count": 55,
   "id": "13729efd",
   "metadata": {},
   "outputs": [
    {
     "name": "stdout",
     "output_type": "stream",
     "text": [
      "1.0\n",
      "0.0\n",
      "1\n",
      "0\n",
      "(1+0j)\n",
      "0j\n",
      "(1+0j)\n"
     ]
    }
   ],
   "source": [
    "print(float(True))\n",
    "print(float(False))\n",
    "print(int(True))\n",
    "print(int(False))\n",
    "print(complex(True))\n",
    "print(complex(False))\n"
   ]
  },
  {
   "cell_type": "code",
   "execution_count": 51,
   "id": "33bbb327",
   "metadata": {},
   "outputs": [
    {
     "name": "stdout",
     "output_type": "stream",
     "text": [
      "1\n"
     ]
    }
   ],
   "source": [
    "a = 1\n",
    "print(a)"
   ]
  },
  {
   "cell_type": "code",
   "execution_count": 57,
   "id": "91ad9701",
   "metadata": {},
   "outputs": [
    {
     "name": "stdout",
     "output_type": "stream",
     "text": [
      "True\n",
      "<class 'str'>\n"
     ]
    }
   ],
   "source": [
    "a = str(True)\n",
    "print(a)\n",
    "print(type(a))"
   ]
  },
  {
   "cell_type": "code",
   "execution_count": 58,
   "id": "9b4f4314",
   "metadata": {},
   "outputs": [
    {
     "name": "stdout",
     "output_type": "stream",
     "text": [
      "False\n",
      "<class 'str'>\n"
     ]
    }
   ],
   "source": [
    "a = str(False)\n",
    "print(a)\n",
    "print(type(a))"
   ]
  },
  {
   "cell_type": "code",
   "execution_count": 59,
   "id": "22f3eee9",
   "metadata": {},
   "outputs": [
    {
     "name": "stdout",
     "output_type": "stream",
     "text": [
      "<class 'bool'>\n",
      "True\n"
     ]
    }
   ],
   "source": [
    "a = bool(22)\n",
    "print(type(a))\n",
    "print(a)"
   ]
  },
  {
   "cell_type": "code",
   "execution_count": 63,
   "id": "72375ea3",
   "metadata": {},
   "outputs": [
    {
     "name": "stdout",
     "output_type": "stream",
     "text": [
      "True\n",
      "True\n",
      "False\n",
      "True\n"
     ]
    }
   ],
   "source": [
    "print(bool(22))\n",
    "print(bool(2.3))\n",
    "print(bool(0))\n",
    "print(bool(4+6j))"
   ]
  },
  {
   "cell_type": "code",
   "execution_count": 64,
   "id": "82a23e9e",
   "metadata": {},
   "outputs": [
    {
     "name": "stdout",
     "output_type": "stream",
     "text": [
      "1\n"
     ]
    }
   ],
   "source": [
    "print(int(True))"
   ]
  },
  {
   "cell_type": "code",
   "execution_count": 73,
   "id": "6d5ce19f",
   "metadata": {},
   "outputs": [
    {
     "name": "stdout",
     "output_type": "stream",
     "text": [
      "<class 'bool'>\n",
      "True\n",
      "<class 'bool'>\n",
      "True\n",
      "<class 'bool'>\n",
      "True\n",
      "<class 'bool'>\n",
      "True\n",
      "<class 'bool'>\n",
      "True\n",
      "False\n",
      "True\n",
      "False\n",
      "True\n"
     ]
    }
   ],
   "source": [
    "a = bool(11)\n",
    "print(type(a))\n",
    "print(a)\n",
    "b = bool(2.3)\n",
    "print(type(b))\n",
    "print(b)\n",
    "c = bool(2+4j)\n",
    "print(type(c))\n",
    "print(c)\n",
    "d = bool('20')\n",
    "print(type(d))\n",
    "print(d)\n",
    "a = 'hello'\n",
    "b = bool(a)\n",
    "print(type(b))\n",
    "print(b)\n",
    "print(bool(0+0j))\n",
    "print(bool('hello'))\n",
    "print(bool(''))\n",
    "print(bool('10'))"
   ]
  },
  {
   "cell_type": "markdown",
   "id": "170882d8",
   "metadata": {},
   "source": [
    "### string"
   ]
  },
  {
   "cell_type": "code",
   "execution_count": 82,
   "id": "7612e9fc",
   "metadata": {},
   "outputs": [
    {
     "name": "stdout",
     "output_type": "stream",
     "text": [
      "<class 'str'>\n",
      "hi python\n",
      "hi \n",
      "ho\n",
      "pyt\n",
      "h\n",
      "n\n",
      "hi pythonhi pythonhi pythonhi pythonhi pythonhi python\n"
     ]
    }
   ],
   "source": [
    "str1 = 'hi python'\n",
    "print(type(str1))\n",
    "print(str1)\n",
    "print(str1[0:3])\n",
    "print(str1[-3:-1])\n",
    "print(str1[-6:-3])\n",
    "print(str1[0])\n",
    "print(str1[-1])\n",
    "print(str1*6)"
   ]
  },
  {
   "cell_type": "code",
   "execution_count": 86,
   "id": "be0afd32",
   "metadata": {},
   "outputs": [
    {
     "name": "stdout",
     "output_type": "stream",
     "text": [
      "<class 'str'>\n",
      "welcome python\n",
      "lco\n",
      "yth\n",
      "14\n",
      "elcome pytho\n",
      "welcome pythonwelcome pythonwelcome pythonwelcome python\n"
     ]
    }
   ],
   "source": [
    "str2 = 'welcome python'\n",
    "print(type(str2))\n",
    "print(str2)\n",
    "print(str2[2:5])\n",
    "print(str2[-5:-2])\n",
    "print(len(str2))\n",
    "print(str2[1:-1])\n",
    "print(str2*4)"
   ]
  },
  {
   "cell_type": "code",
   "execution_count": 87,
   "id": "53612ae9",
   "metadata": {},
   "outputs": [
    {
     "name": "stdout",
     "output_type": "stream",
     "text": [
      "1911845290512\n",
      "1911845290832\n",
      "False\n"
     ]
    }
   ],
   "source": [
    "a = 10\n",
    "b = 20\n",
    "print(id(a))\n",
    "print(id(b))\n",
    "print(a is b)"
   ]
  },
  {
   "cell_type": "code",
   "execution_count": 88,
   "id": "edf29b10",
   "metadata": {},
   "outputs": [
    {
     "name": "stdout",
     "output_type": "stream",
     "text": [
      "1911943824272\n",
      "1911924474736\n",
      "False\n"
     ]
    }
   ],
   "source": [
    "a = 2.4\n",
    "b = 2.4\n",
    "print(id(a))\n",
    "print(id(b))\n",
    "print(a is b)"
   ]
  },
  {
   "cell_type": "code",
   "execution_count": 89,
   "id": "5589da4d",
   "metadata": {},
   "outputs": [
    {
     "name": "stdout",
     "output_type": "stream",
     "text": [
      "1911945597904\n",
      "1911945597904\n",
      "True\n"
     ]
    }
   ],
   "source": [
    "a = 3+4j\n",
    "a = 3+6j\n",
    "print(id(a))\n",
    "print(id(a))\n",
    "print(a is a)"
   ]
  },
  {
   "cell_type": "code",
   "execution_count": 90,
   "id": "932268db",
   "metadata": {},
   "outputs": [
    {
     "name": "stdout",
     "output_type": "stream",
     "text": [
      "1911845290512\n",
      "1911845290512\n",
      "True\n"
     ]
    }
   ],
   "source": [
    "a = 10\n",
    "b = a\n",
    "print(id(a))\n",
    "print(id(b))\n",
    "print( a is b)"
   ]
  },
  {
   "cell_type": "code",
   "execution_count": 92,
   "id": "5ad34752",
   "metadata": {},
   "outputs": [
    {
     "name": "stdout",
     "output_type": "stream",
     "text": [
      "1911922960432\n",
      "1911922960432\n",
      "True\n"
     ]
    }
   ],
   "source": [
    "x = 9.0\n",
    "y = x\n",
    "print(id(x))\n",
    "print((id(y)))\n",
    "print(x is y)"
   ]
  },
  {
   "cell_type": "code",
   "execution_count": 94,
   "id": "c3fb9dee",
   "metadata": {},
   "outputs": [
    {
     "name": "stdout",
     "output_type": "stream",
     "text": [
      "1911845291152\n",
      "1911845291152\n",
      "1911845291152\n"
     ]
    }
   ],
   "source": [
    "a = 30\n",
    "b = a\n",
    "c = a\n",
    "print(id(a))\n",
    "print(id(b))\n",
    "print(id(c))\n"
   ]
  },
  {
   "cell_type": "code",
   "execution_count": 99,
   "id": "110a9db8",
   "metadata": {},
   "outputs": [
    {
     "name": "stdout",
     "output_type": "stream",
     "text": [
      "1911943830800\n",
      "1911943830800\n",
      "1911943833072\n",
      "True\n"
     ]
    }
   ],
   "source": [
    "x = 5.9\n",
    "y = x\n",
    "z = 3.7\n",
    "print(id(x))\n",
    "print(id(y))\n",
    "print(id(z))\n",
    "print(z is not y)"
   ]
  },
  {
   "cell_type": "code",
   "execution_count": 102,
   "id": "bcbedf9e",
   "metadata": {},
   "outputs": [
    {
     "name": "stdout",
     "output_type": "stream",
     "text": [
      "<class 'bytes'>\n",
      "b'\\x01\\x02\\x03\\x04\\x05\\x06'\n",
      "4\n"
     ]
    }
   ],
   "source": [
    "a = ([1,2,3,4,5,6])\n",
    "b = bytes(a)\n",
    "print(type(b))\n",
    "print(b)\n",
    "print(b[3])\n"
   ]
  },
  {
   "cell_type": "code",
   "execution_count": 105,
   "id": "b1c45f0e",
   "metadata": {},
   "outputs": [
    {
     "name": "stdout",
     "output_type": "stream",
     "text": [
      "<class 'bytes'>\n",
      "b'\\x0b\\x16!,7B'\n",
      "11\n",
      "22\n",
      "33\n",
      "44\n",
      "55\n",
      "66\n"
     ]
    },
    {
     "data": {
      "text/plain": [
       "66"
      ]
     },
     "execution_count": 105,
     "metadata": {},
     "output_type": "execute_result"
    }
   ],
   "source": [
    "b = bytes([11,22,33,44,55,66])\n",
    "print(type(b))\n",
    "print(b)\n",
    "for i in b:\n",
    "    print(i)\n",
    "b[3] \n",
    "b[5]"
   ]
  },
  {
   "cell_type": "code",
   "execution_count": 108,
   "id": "a1c804e7",
   "metadata": {},
   "outputs": [
    {
     "name": "stdout",
     "output_type": "stream",
     "text": [
      "<class 'bytes'>\n",
      "b'\\x00\\x01\\x02\\x03\\x04\\x05\\x06\\x07'\n",
      "0\n",
      "1\n",
      "2\n",
      "3\n",
      "4\n",
      "5\n",
      "6\n",
      "7\n"
     ]
    },
    {
     "data": {
      "text/plain": [
       "2"
      ]
     },
     "execution_count": 108,
     "metadata": {},
     "output_type": "execute_result"
    }
   ],
   "source": [
    "b = bytes([0,1,2,3,4,5,6,7])\n",
    "print(type(b))\n",
    "print(b)\n",
    "for i in b:\n",
    "    print(i)\n",
    "b[2]    "
   ]
  },
  {
   "cell_type": "code",
   "execution_count": 111,
   "id": "8c1087e0",
   "metadata": {},
   "outputs": [
    {
     "name": "stdout",
     "output_type": "stream",
     "text": [
      "<class 'bytearray'>\n",
      "bytearray(b'\\x0b\\x16!,7BM')\n",
      "11\n",
      "22\n",
      "33\n",
      "44\n",
      "55\n",
      "66\n",
      "77\n",
      "100\n",
      "11\n",
      "22\n",
      "33\n",
      "100\n",
      "55\n",
      "66\n",
      "77\n"
     ]
    }
   ],
   "source": [
    "ba = bytearray([11,22,33,44,55,66,77])\n",
    "print(type(ba))\n",
    "print(ba)\n",
    "for i in ba:\n",
    "    print(i)\n",
    "ba[3] = 100\n",
    "print(ba[3])\n",
    "for i in ba:\n",
    "    print(i)"
   ]
  },
  {
   "cell_type": "code",
   "execution_count": 113,
   "id": "091bda3d",
   "metadata": {},
   "outputs": [
    {
     "name": "stdout",
     "output_type": "stream",
     "text": [
      "<class 'bytes'>\n",
      "b'o\\xde\\xdf\\xe0\\xe1'\n",
      "111\n",
      "222\n",
      "223\n",
      "224\n",
      "225\n"
     ]
    }
   ],
   "source": [
    "a = bytes([111,222,223,224,225])\n",
    "\n",
    "print(type(a))\n",
    "print(a)\n",
    "for i in a:\n",
    "    print(i)\n",
    "    "
   ]
  },
  {
   "cell_type": "code",
   "execution_count": 114,
   "id": "0641dbad",
   "metadata": {},
   "outputs": [
    {
     "name": "stdout",
     "output_type": "stream",
     "text": [
      "<class 'bytearray'>\n",
      "bytearray(b'\\x0b\\x16!,7BMXc')\n",
      "11\n",
      "22\n",
      "33\n",
      "44\n",
      "55\n",
      "66\n",
      "77\n",
      "88\n",
      "99\n",
      "<class 'int'>\n",
      "100\n"
     ]
    }
   ],
   "source": [
    "ba = bytearray([11,22,33,44,55,66,77,88,99])\n",
    "print(type(ba))\n",
    "print(ba)\n",
    "for i in ba:\n",
    "    print(i)\n",
    "ba[3] = 100\n",
    "print(type(ba[3]))\n",
    "print(ba[3])"
   ]
  },
  {
   "cell_type": "markdown",
   "id": "bf96eca9",
   "metadata": {},
   "source": [
    "### list"
   ]
  },
  {
   "cell_type": "code",
   "execution_count": 115,
   "id": "2d0247df",
   "metadata": {},
   "outputs": [
    {
     "name": "stdout",
     "output_type": "stream",
     "text": [
      "<class 'list'>\n",
      "[1, 2, 3, 4, 5, 6, 7]\n"
     ]
    }
   ],
   "source": [
    "l_i = [1,2,3,4,5,6,7]\n",
    "print(type(l_i))\n",
    "print(l_i)"
   ]
  },
  {
   "cell_type": "code",
   "execution_count": 116,
   "id": "126a0b7f",
   "metadata": {},
   "outputs": [
    {
     "name": "stdout",
     "output_type": "stream",
     "text": [
      "<class 'list'>\n",
      "[1.1, 1.2, 1.3, 1.4, 1.5]\n"
     ]
    }
   ],
   "source": [
    "l_f = [1.1,1.2,1.3,1.4,1.5]\n",
    "print(type(l_f))\n",
    "print(l_f)"
   ]
  },
  {
   "cell_type": "code",
   "execution_count": 117,
   "id": "9e4f4c5a",
   "metadata": {},
   "outputs": [
    {
     "name": "stdout",
     "output_type": "stream",
     "text": [
      "<class 'list'>\n",
      "[1, 2, 3, 3.4, 3.5, 'lili', 'hi']\n"
     ]
    }
   ],
   "source": [
    "l_m = [1,2,3,3.4,3.5,'lili','hi']\n",
    "print(type(l_m))\n",
    "print(l_m)"
   ]
  },
  {
   "cell_type": "code",
   "execution_count": 118,
   "id": "cfb79637",
   "metadata": {},
   "outputs": [
    {
     "name": "stdout",
     "output_type": "stream",
     "text": [
      "<class 'list'>\n",
      "['aa', 'bb', 'cc', 'dd', 'ee']\n"
     ]
    }
   ],
   "source": [
    "l_str = ['aa','bb','cc','dd','ee']\n",
    "print(type(l_str))\n",
    "print(l_str)"
   ]
  },
  {
   "cell_type": "code",
   "execution_count": 121,
   "id": "ee663b9b",
   "metadata": {},
   "outputs": [
    {
     "name": "stdout",
     "output_type": "stream",
     "text": [
      "<class 'list'>\n",
      "[11, 22, 33, 44, 55, 66]\n",
      "[11, 22, 33]\n",
      "[33, 44, 55]\n"
     ]
    }
   ],
   "source": [
    "list1 = [11,22,33,44,55,66]\n",
    "print(type(list1))\n",
    "print(list1)\n",
    "list1[2]\n",
    "print(list1[0:3])\n",
    "print(list1[-4:-1])"
   ]
  },
  {
   "cell_type": "code",
   "execution_count": 136,
   "id": "2955229d",
   "metadata": {},
   "outputs": [
    {
     "name": "stdout",
     "output_type": "stream",
     "text": [
      "<class 'list'>\n",
      "[11, 12, 13, 14, 15, 16, 17, 18]\n",
      "[11, 12, 13, 14, 15, 16, 17, 18, 19]\n",
      "[11, 12, 13, 14, 15, 16, 17, 18]\n",
      "[11, 12, 13, 14, 15, 16, 17, 18]\n",
      "[11, 12, 13, 14, 15, 16, 17, 18, 20]\n",
      "1\n",
      "4\n",
      "[11, 12, 13, 40, 14, 15, 16, 17, 18, 20]\n",
      "[11, 12, 13, 40, 14, 15, 16, 17, 18]\n",
      "[18, 17, 16, 15, 14, 40, 13, 12, 11]\n",
      "[11, 12, 13, 14, 15, 16, 17, 18, 40]\n",
      "[40, 18, 17, 16, 15, 14, 13, 12, 11]\n"
     ]
    }
   ],
   "source": [
    "list2 = [11,12,13,14,15,16,17,18]\n",
    "print(type(list2))\n",
    "print(list2)\n",
    "list2.append(19)\n",
    "print(list2)\n",
    "list2.remove(19)\n",
    "print(list2)\n",
    "list3 = list2.copy()\n",
    "print(list3)\n",
    "list3.extend([20])\n",
    "print(list3)\n",
    "print(list3.index(12))\n",
    "print(list3.index(15))\n",
    "list3.insert(3,40)\n",
    "print(list3)\n",
    "list3.pop()\n",
    "print(list3)\n",
    "list3.reverse()\n",
    "print(list3)\n",
    "list3.sort(reverse = False)\n",
    "print(list3)\n",
    "list3.sort(reverse = True)\n",
    "print(list3)"
   ]
  },
  {
   "cell_type": "code",
   "execution_count": 146,
   "id": "98db7107",
   "metadata": {},
   "outputs": [
    {
     "name": "stdout",
     "output_type": "stream",
     "text": [
      "<class 'list'>\n",
      "[10, 20, 30, 40, 50, 60, 70, 80, 90]\n",
      "[10, 20, 30, 40, 50, 60, 70, 80, 90, 100]\n",
      "[10, 20, 30, 40, 50, 60, 70, 80, 90]\n",
      "[10, 20, 30, 40, 50, 60, 70, 80, 90]\n",
      "[10, 20, 30, 40, 50, 60, 70, 80, 90, 20]\n",
      "4\n",
      "[10, 20, 30, 40, 400, 50, 60, 70, 80, 90, 20]\n",
      "[10, 20, 30, 40, 400, 50, 60, 70, 80, 90]\n",
      "[400, 90, 80, 70, 60, 50, 40, 30, 20, 10]\n",
      "[10, 20, 30, 40, 50, 60, 70, 80, 90, 400]\n"
     ]
    }
   ],
   "source": [
    "list5 = [10,20,30,40,50,60,70,80,90]\n",
    "print(type(list5))\n",
    "print(list5)\n",
    "list5.append(100)\n",
    "print(list5)\n",
    "list5.remove(100)\n",
    "print(list5)\n",
    "list6 = list5.copy()\n",
    "print(list6)\n",
    "list6.extend([20])\n",
    "print(list6)\n",
    "print(list6.index(50))\n",
    "list6.insert(4,400)\n",
    "print(list6)\n",
    "list6.pop()\n",
    "print(list6)\n",
    "list6.sort(reverse = True)\n",
    "print(list6)\n",
    "list6.sort(reverse = False)\n",
    "print(list6)"
   ]
  },
  {
   "cell_type": "code",
   "execution_count": 153,
   "id": "af5390e9",
   "metadata": {},
   "outputs": [
    {
     "name": "stdout",
     "output_type": "stream",
     "text": [
      "(1, 2, 3, 4, 5, 6)\n"
     ]
    },
    {
     "data": {
      "text/plain": [
       "1"
      ]
     },
     "execution_count": 153,
     "metadata": {},
     "output_type": "execute_result"
    }
   ],
   "source": [
    "tup =tuple((1,2,3,4,5,6))\n",
    "print(tup)\n",
    "tup.count(5)\n",
    "tup.count(2)\n"
   ]
  },
  {
   "cell_type": "code",
   "execution_count": 163,
   "id": "df2e3614",
   "metadata": {},
   "outputs": [
    {
     "name": "stdout",
     "output_type": "stream",
     "text": [
      "<class 'tuple'>\n",
      "(1, 2, 3, 4, 5)\n"
     ]
    }
   ],
   "source": [
    "tup = tuple((1,2,3,4,5))\n",
    "print(type(tup))\n",
    "print(tup)\n"
   ]
  },
  {
   "cell_type": "code",
   "execution_count": 169,
   "id": "bc174925",
   "metadata": {},
   "outputs": [
    {
     "name": "stdout",
     "output_type": "stream",
     "text": [
      "<class 'tuple'>\n",
      "('aa', 'bb', 'cc', 'dd', 'ee')\n",
      "dd\n",
      "('aa', 'bb', 'cc')\n",
      "()\n"
     ]
    }
   ],
   "source": [
    "tup=('aa','bb','cc','dd','ee')\n",
    "print(type(tup))\n",
    "print(tup)\n",
    "print(tup[3])\n",
    "print(tup[0:3])\n",
    "print(tup[-2:-0])"
   ]
  },
  {
   "cell_type": "code",
   "execution_count": 2,
   "id": "1616c473",
   "metadata": {},
   "outputs": [
    {
     "name": "stdout",
     "output_type": "stream",
     "text": [
      "<class 'list'>\n",
      "[1, 2, 3, 4, 5, 6, 7, 8, 9]\n",
      "<class 'tuple'>\n",
      "(1, 2, 3, 4, 5, 6, 7, 8, 9)\n",
      "<class 'tuple'>\n",
      "(11, 22, 33, 44, 55, 66)\n",
      "<class 'list'>\n",
      "[11, 22, 33, 44, 55, 66]\n"
     ]
    }
   ],
   "source": [
    "list1 = [1,2,3,4,5,6,7,8,9]\n",
    "print(type(list1))\n",
    "print(list1)\n",
    "t_list1= tuple(list1)\n",
    "print(type(t_list1))\n",
    "print(t_list1)\n",
    "tup = tuple([11,22,33,44,55,66])\n",
    "print(type(tup))\n",
    "print(tup)\n",
    "l_tup= list(tup)\n",
    "print(type(l_tup))\n",
    "print(l_tup)"
   ]
  },
  {
   "cell_type": "code",
   "execution_count": 1,
   "id": "5191b43a",
   "metadata": {},
   "outputs": [
    {
     "name": "stdout",
     "output_type": "stream",
     "text": [
      "<class 'tuple'>\n",
      "(1, 2, 3, 4, 5, 6, 7, 8, 9, 0)\n",
      "<class 'list'>\n",
      "[1, 2, 3, 4, 5, 6, 7, 8, 9, 0]\n",
      "[1, 2, 3, 4, 5, 6, 7, 8, 9, 0, 10]\n",
      "(1, 2, 3, 4, 5, 6, 7, 8, 9, 0, 10)\n",
      "[1, 2, 3, 4, 5, 6, 7, 8, 9, 0, 10]\n",
      "[1, 2, 3, 4, 5, 6, 7, 8, 0, 10]\n",
      "[1, 2, 3, 30, 4, 5, 6, 7, 8, 0, 10]\n",
      "[1, 2, 3, 30, 4, 5, 6, 7, 8, 0, 10]\n",
      "[1, 2, 3, 30, 4, 5, 6, 7, 8, 0, 10]\n",
      "[10, 0, 8, 7, 6, 5, 4, 30, 3, 2, 1]\n",
      "[30, 10, 8, 7, 6, 5, 4, 3, 2, 1, 0]\n",
      "[0, 1, 2, 3, 4, 5, 6, 7, 8, 10, 30]\n",
      "[0, 1, 2, 3, 4, 5, 6, 7, 8, 10]\n",
      "(0, 1, 2, 3, 4, 5, 6, 7, 8, 10)\n",
      "[0, 1, 2, 3, 4, 5, 6, 7, 8, 10]\n",
      "[0, 1, 2, 3, 4, 5, 6, 7, 8, 10, 11]\n"
     ]
    }
   ],
   "source": [
    "tup=tuple((1,2,3,4,5,6,7,8,9,0))\n",
    "print(type(tup))\n",
    "print(tup)\n",
    "list1=list(tup)\n",
    "print(type(list1))\n",
    "print(list1)\n",
    "list1.append(10)\n",
    "print(list1)\n",
    "tup=tuple(list1)\n",
    "print(tup)\n",
    "list1=list(tup)\n",
    "print(list1)\n",
    "list1.remove(9)\n",
    "print(list1)\n",
    "list1.insert(3,30)\n",
    "print(list1)\n",
    "list2=list1.copy()\n",
    "print(list2)\n",
    "print(list1)\n",
    "list1.reverse()\n",
    "print(list1)\n",
    "list1.sort(reverse=True)\n",
    "print(list1)\n",
    "list1.sort(reverse=False)\n",
    "print(list1)\n",
    "list1.pop()\n",
    "print(list1)\n",
    "tup=tuple(list1)\n",
    "print(tup)\n",
    "list1=list(tup)\n",
    "print(list1)\n",
    "list1.extend([11])\n",
    "print(list1)"
   ]
  },
  {
   "cell_type": "code",
   "execution_count": 12,
   "id": "7a6f4e5d",
   "metadata": {},
   "outputs": [
    {
     "name": "stdout",
     "output_type": "stream",
     "text": [
      "<class 'tuple'>\n",
      "(1, 2, 3, 4, 5, 6)\n",
      "<class 'list'>\n",
      "[1, 2, 3, 4, 5, 6]\n",
      "[1, 2, 3, 4, 5, 6, 7]\n",
      "[1, 2, 3, 4, 5, 6]\n",
      "[1, 2, 3, 4, 5, 6]\n",
      "[1, 2, 3, 4, 5, 6, 2, 20]\n",
      "1\n",
      "[1, 2, 20, 3, 4, 5, 6, 2, 20]\n",
      "[1, 2, 20, 3, 4, 5, 6, 2]\n",
      "[20, 6, 5, 4, 3, 2, 2, 1]\n"
     ]
    }
   ],
   "source": [
    "tup = tuple((1,2,3,4,5,6))\n",
    "print(type(tup))\n",
    "print(tup)\n",
    "l_tup = list(tup)\n",
    "print(type(l_tup))\n",
    "print(l_tup)\n",
    "l_tup.append(7)\n",
    "print(l_tup)\n",
    "l_tup.remove(7)\n",
    "print(l_tup)\n",
    "list1 = l_tup.copy()\n",
    "print(list1)\n",
    "list1.extend([2,20])\n",
    "print(list1)\n",
    "print(list1.index(2))\n",
    "list1.insert(2,20)\n",
    "print(list1)\n",
    "list1.pop()\n",
    "print(list1)\n",
    "list1.sort(reverse = True)\n",
    "print(list1)\n",
    "list1.sort(reverse = False)\n"
   ]
  },
  {
   "cell_type": "code",
   "execution_count": 19,
   "id": "b0e61e15",
   "metadata": {},
   "outputs": [
    {
     "name": "stdout",
     "output_type": "stream",
     "text": [
      "<class 'tuple'>\n",
      "(1.1, 1.2, 1.3, 1.4, 1.5)\n",
      "<class 'tuple'>\n",
      "('apple', 'kiwi', 'cherry', 'mango', 'berry', 'lemon')\n",
      "('apple', 'kiwi', 'cherry', 'mango')\n",
      "('cherry', 'mango', 'berry')\n",
      "()\n"
     ]
    }
   ],
   "source": [
    "tup = (1.1,1.2,1.3,1.4,1.5)\n",
    "print(type(tup))\n",
    "print(tup)\n",
    "tup = ('apple','kiwi','cherry','mango','berry','lemon')\n",
    "print(type(tup))\n",
    "print(tup)\n",
    "print(tup[0:4])\n",
    "print(tup[-4:-1])\n",
    "print(tup[3:1])\n",
    "print(tup)"
   ]
  },
  {
   "cell_type": "markdown",
   "id": "61f954b1",
   "metadata": {},
   "source": [
    "### set"
   ]
  },
  {
   "cell_type": "code",
   "execution_count": 48,
   "id": "e001f596",
   "metadata": {},
   "outputs": [
    {
     "name": "stdout",
     "output_type": "stream",
     "text": [
      "<class 'set'>\n",
      "{1, 2, 3, 4, 5, 6}\n",
      "<class 'set'>\n",
      "8\n",
      "<class 'set'>\n",
      "{1, 2, 3, 4, 5, 6, 7, 8}\n",
      "<class 'set'>\n",
      "{'ee', 'cc', 'aa', 'dd', 'bb', 'ff'}\n",
      "{'ee', 'cc', 'aa', 'dd', 'bb', 'ff'}\n",
      "{'gg', 'ee', 'cc', 'aa', 'dd', 'bb', 'ff'}\n",
      "{'hh', 'gg', 'ee', 'cc', 'aa', 'dd', 'bb', 'ff'}\n",
      "<class 'set'>\n",
      "{'hh', 'cc', 'aa', 'dd', 'bb', 'gg'}\n",
      "{'hh', 'yy', 'cc', 'bb', 'gg', 'zz', 'xx', 'aa', 'dd'}\n",
      "{'hh', 'yy', 'cc', 'bb', 'zz', 'xx', 'aa', 'dd'}\n",
      "{'yy', 'cc', 'bb', 'zz', 'xx', 'aa', 'dd'}\n",
      "{'yy', 'cc', 'zz', 'xx', 'aa', 'dd'}\n",
      "{'siddhesh', 'lili', 'kuku', 'renu'}\n",
      "{1, 2, 3, 4}\n",
      "{3, 4, 5, 6, 7}\n",
      "{1, 2, 3, 4, 5, 6, 7}\n",
      "{3, 4}\n",
      "{1, 2, 3, 4, 5}\n",
      "{1, 2, 3, 4, 5}\n",
      "{9, 10, 11, 12}\n",
      "None\n"
     ]
    }
   ],
   "source": [
    "s = {1,2,3,4,5,6}\n",
    "print(type(s))\n",
    "print(s)\n",
    "s1 = {1,2,3,4,5,6,'hi','hello'}\n",
    "print(type(s1))\n",
    "print(len(s1))\n",
    "s = set([1,2,3,4,5,6,7,8])\n",
    "print(type(s))\n",
    "print(s)\n",
    "s = {'aa','bb','cc','dd','ee','ff'}\n",
    "print(type(s))\n",
    "print(s)\n",
    "'aa' in s\n",
    "'zz' not in s\n",
    "print(s)\n",
    "s.add('gg')\n",
    "print(s)\n",
    "s.add('hh')\n",
    "print(s)\n",
    "s = {'aa','bb','cc','dd','gg','hh'}\n",
    "print(type(s))\n",
    "print(s)\n",
    "s1 = {'xx','yy','zz'}\n",
    "s.update(s1)\n",
    "print(s)\n",
    "s.remove('gg')\n",
    "print(s)\n",
    "s.pop()\n",
    "print(s)\n",
    "s.discard('bb')\n",
    "print(s)\n",
    "s1 = {'siddhesh','renu','lili','kuku'}\n",
    "print(s1)\n",
    "s2 = {1,2,3,4}\n",
    "s3 = {3,4,5,6,7}\n",
    "print(s2)\n",
    "print(s3)\n",
    "s4 = s2.union(s3)\n",
    "print(s4)\n",
    "s4 = s2.intersection(s3)\n",
    "print(s4)\n",
    "s1 = {1,2,3,4,5}\n",
    "s2 = {1,2,3,4,5}\n",
    "s3 = {9,10,11,12}\n",
    "print(s1)\n",
    "print(s2)\n",
    "print(s3)\n",
    "res= s1.intersection_update(s2)\n",
    "print(res)"
   ]
  },
  {
   "cell_type": "code",
   "execution_count": 49,
   "id": "d2059c2e",
   "metadata": {},
   "outputs": [
    {
     "name": "stdout",
     "output_type": "stream",
     "text": [
      "{33, 11, 44, 22}\n",
      "{1, 2, 3, 4, 5, 6}\n",
      "{33, 11, 44, 22}\n",
      "{33, 11, 44, 22}\n"
     ]
    }
   ],
   "source": [
    "s3 = {11,22,33,44}\n",
    "s4 = {1,2,3,4,5,6}\n",
    "s5 = {11,22,33,44}\n",
    "print(s3)\n",
    "print(s4)\n",
    "print(s5)\n",
    "s3.intersection_update(s5)\n",
    "print(s3)"
   ]
  },
  {
   "cell_type": "code",
   "execution_count": 65,
   "id": "046faf48",
   "metadata": {},
   "outputs": [
    {
     "name": "stdout",
     "output_type": "stream",
     "text": [
      "<class 'set'>\n",
      "{1, 2, 3, 4, 5}\n",
      "<class 'set'>\n",
      "{'lili', 'mango', 'apple', 'kiwi'}\n",
      "{'lili', 'apple', 'lemon', 'mango', 'kiwi'}\n",
      "<class 'set'>\n",
      "{1, 2, 3, 4, 5, 6}\n",
      "{33, 1, 2, 3, 4, 5, 6, 11, 44, 22, 55}\n",
      "{33, 1, 2, 3, 4, 5, 6, 11, 44, 55}\n",
      "{1, 2, 3, 4, 5, 6, 11, 44, 55}\n",
      "{1, 2, 3, 4, 5, 6, 44, 55}\n",
      "{1, 2, 3, 4}\n",
      "{3, 4, 5, 6}\n",
      "{1, 2, 3, 4, 5, 6}\n",
      "{3, 4}\n",
      "{1, 2, 3, 4}\n",
      "{33, 11, 44, 22}\n",
      "{1, 2, 3, 4}\n",
      "{1, 2, 3, 4}\n"
     ]
    }
   ],
   "source": [
    "s = {1,2,3,4,5}\n",
    "print(type(s))\n",
    "print(s)\n",
    "s = set(['apple','kiwi','mango','lili'])\n",
    "print(type(s))\n",
    "print(s)\n",
    "'kiwi' in s\n",
    "s.add('lemon')\n",
    "print(s)\n",
    "s = {1,2,3,4,5,6}\n",
    "print(type(s))\n",
    "print(s)\n",
    "s1 = {11,22,33,44,55}\n",
    "s1.update(s)\n",
    "print(s1)\n",
    "s1.remove(22)\n",
    "print(s1)\n",
    "s1.pop()\n",
    "print(s1)\n",
    "s1.discard(11)\n",
    "print(s1)\n",
    "s1 = {1,2,3,4}\n",
    "s2 = {3,4,5,6}\n",
    "print(s1)\n",
    "print(s2)\n",
    "s = s1.union(s2)\n",
    "print(s)\n",
    "s = s1.intersection(s2)\n",
    "print(s)\n",
    "s3 = {1,2,3,4}\n",
    "s4 = {11,22,33,44}\n",
    "s5 = {1,2,3,4}\n",
    "print(s3)\n",
    "print(s4)\n",
    "print(s5)\n",
    "s3.intersection_update(s5)\n",
    "print(s3)"
   ]
  },
  {
   "cell_type": "markdown",
   "id": "dff3ab4e",
   "metadata": {},
   "source": [
    "### dictionary"
   ]
  },
  {
   "cell_type": "code",
   "execution_count": 84,
   "id": "30e4a708",
   "metadata": {},
   "outputs": [
    {
     "name": "stdout",
     "output_type": "stream",
     "text": [
      "<class 'dict'>\n",
      "{'name': 'lili', 'sub': 'cs', 'age': 40, 'lname': 'varma'}\n",
      "cs\n",
      "40\n",
      "{'name': 'lili', 'sub': 'cs', 'age': 40, 'lname': 'varma'}\n",
      "cs\n",
      "40\n",
      "{'name': 'lili', 'sub': 'cs', 'age': 40, 'lname': 'varma'}\n",
      "dict_keys(['name', 'sub', 'age', 'lname'])\n",
      "dict_values(['lili', 'cs', 40, 'varma'])\n",
      "{'name': 'lili', 'sub': 'cs', 'age': 40, 'lname': 'varma', 'city': 'pune'}\n",
      "dict_items([('name', 'lili'), ('sub', 'cs'), ('age', 40), ('lname', 'varma'), ('city', 'pune')])\n",
      "{'name': 'lili', 'sub': 'cs', 'age': 40, 'lname': 'varma', 'city': 'pune'}\n",
      "dict_items([('name', 'lili'), ('sub', 'cs'), ('age', 40), ('lname', 'varma'), ('city', 'pune')])\n",
      "dict_items([('name', 'lili'), ('sub', 'cs'), ('age', 40), ('lname', 'varma'), ('city', 'pune'), ('mail', 'abc.com'), ('mob', 9876567865)])\n"
     ]
    }
   ],
   "source": [
    "dict1 = {\n",
    "    'name':'lili',\n",
    "    'sub':'cs',\n",
    "    'age': 40,\n",
    "    'lname':'varma'\n",
    "}\n",
    "print(type(dict1))\n",
    "print(dict1)\n",
    "print(dict1['sub'])\n",
    "print(dict1['age'])\n",
    "print(dict1)\n",
    "print(dict1.get('sub'))\n",
    "print(dict1.get('age'))\n",
    "print(dict1)\n",
    "a = dict1.keys()\n",
    "print(a)\n",
    "b = dict1.values()\n",
    "print(b)\n",
    "dict1 ['city'] = 'pune'\n",
    "print(dict1)\n",
    "a = dict1.items()\n",
    "print(a)\n",
    "print(dict1)\n",
    "print(dict1.items())\n",
    "dict1.update({\n",
    "    'mail': 'abc.com',\n",
    "    'mob': 9876567865\n",
    "})\n",
    "print(dict1.items())"
   ]
  },
  {
   "cell_type": "code",
   "execution_count": 95,
   "id": "c9b79aa8",
   "metadata": {},
   "outputs": [
    {
     "name": "stdout",
     "output_type": "stream",
     "text": [
      "<class 'dict'>\n",
      "{'name': 'lili', 'age': 20, 'sub': 'cs', 'city': 'pune'}\n",
      "cs\n",
      "20\n",
      "dict_keys(['name', 'age', 'sub', 'city'])\n",
      "dict_values(['lili', 20, 'cs', 'pune'])\n",
      "{'name': 'lili', 'age': 20, 'sub': 'cs', 'city': 'pune', 'marks': 80}\n",
      "dict_items([('name', 'lili'), ('age', 20), ('sub', 'cs'), ('city', 'pune'), ('marks', 80)])\n",
      "{'name': 'lili', 'age': 20, 'sub': 'cs', 'city': 'pune', 'marks': 80}\n",
      "dict_items([('name', 'lili'), ('age', 20), ('sub', 'cs'), ('city', 'pune'), ('marks', 80)])\n",
      "dict_items([('name', 'lili'), ('age', 20), ('sub', 'cs'), ('city', 'pune'), ('marks', 80), ('mail', 'abc.com'), ('mob', 9878678987)])\n"
     ]
    }
   ],
   "source": [
    "s = {\n",
    "    'name':'lili',\n",
    "    'age': 20,\n",
    "    'sub': 'cs',\n",
    "    'city':'pune'\n",
    "}\n",
    "print(type(s))\n",
    "print(s)\n",
    "print(s['sub'])\n",
    "print(s.get('age'))\n",
    "a = s.keys()\n",
    "print(a)\n",
    "b = s.values()\n",
    "print(b)\n",
    "s['marks'] = 80\n",
    "print(s)\n",
    "print(s.items())\n",
    "print(s)\n",
    "print(s.items())\n",
    "s.update({\n",
    "    'mail': 'abc.com',\n",
    "    'mob': 9878678987\n",
    "})\n",
    "print(s.items())"
   ]
  },
  {
   "cell_type": "code",
   "execution_count": 96,
   "id": "0462ac57",
   "metadata": {},
   "outputs": [
    {
     "name": "stdout",
     "output_type": "stream",
     "text": [
      "<class 'set'>\n",
      "frozenset({1, 2, 3, 4, 5})\n"
     ]
    }
   ],
   "source": [
    "set1 = {1,2,3,4,5}\n",
    "print(type(set1))\n",
    "s = frozenset(set1)\n",
    "print(s)"
   ]
  },
  {
   "cell_type": "code",
   "execution_count": 100,
   "id": "c2c7b7a0",
   "metadata": {},
   "outputs": [
    {
     "name": "stdout",
     "output_type": "stream",
     "text": [
      "<class 'set'>\n",
      "{1, 2, 3, 4, 5, 6}\n",
      "frozenset({1, 2, 3, 4, 5, 6})\n",
      "{1, 2, 3, 4}\n",
      "{3, 4, 5, 6}\n",
      "{1, 2, 3, 4, 5, 6}\n",
      "{3, 4}\n",
      "{1, 2, 3, 4}\n"
     ]
    }
   ],
   "source": [
    "set1 = {1,2,3,4,5,6}\n",
    "print(type(set1))\n",
    "print(set1)\n",
    "s = frozenset(set1)\n",
    "print(s)\n",
    "s1 = {1,2,3,4}\n",
    "s2 = {3,4,5,6}\n",
    "print(s1)\n",
    "print(s2)\n",
    "s3 = s1.union(s2)\n",
    "print(s3)\n",
    "s3 = s1.intersection(s2)\n",
    "print(s3)\n",
    "s4 = s1.copy()\n",
    "print(s4)"
   ]
  },
  {
   "cell_type": "markdown",
   "id": "e8a50dba",
   "metadata": {},
   "source": [
    "### opertors"
   ]
  },
  {
   "cell_type": "code",
   "execution_count": 7,
   "id": "d9f8c85e",
   "metadata": {},
   "outputs": [
    {
     "name": "stdout",
     "output_type": "stream",
     "text": [
      "30\n",
      "-20\n",
      "1000\n",
      "0.6666666666666666\n",
      "1073741824000000000000000000000000000000\n",
      "0\n",
      "20\n"
     ]
    }
   ],
   "source": [
    "a = 10\n",
    "b = 20\n",
    "c = a+b\n",
    "print(c)\n",
    "a = 20\n",
    "b = 40\n",
    "c = a-b\n",
    "print(c)\n",
    "a = 20\n",
    "b = 50\n",
    "c = a*b\n",
    "print(c)\n",
    "a = 20\n",
    "b = 30\n",
    "c = a/b\n",
    "print(c)\n",
    "c = a**b\n",
    "print(c)\n",
    "c = a//b\n",
    "print(c)\n",
    "c = a%b\n",
    "print(c)"
   ]
  },
  {
   "cell_type": "code",
   "execution_count": 14,
   "id": "91c5e776",
   "metadata": {},
   "outputs": [
    {
     "name": "stdout",
     "output_type": "stream",
     "text": [
      "200\n",
      "190\n",
      "380\n",
      "190.0\n",
      "36100.0\n",
      "7220.0\n",
      "0.0\n"
     ]
    }
   ],
   "source": [
    "a = 100\n",
    "a +=100\n",
    "print(a)\n",
    "a -=10\n",
    "print(a)\n",
    "a *=2\n",
    "print(a)\n",
    "a /=2\n",
    "print(a)\n",
    "a **=2\n",
    "print(a)\n",
    "a //=5\n",
    "print(a)\n",
    "a %=5\n",
    "print(a)"
   ]
  },
  {
   "cell_type": "code",
   "execution_count": 16,
   "id": "2db5c78f",
   "metadata": {},
   "outputs": [
    {
     "name": "stdout",
     "output_type": "stream",
     "text": [
      "False\n",
      "False\n",
      "False\n",
      "True\n",
      "True\n",
      "True\n"
     ]
    }
   ],
   "source": [
    "a = 100\n",
    "b= 50\n",
    "c=100\n",
    "print(a==b)\n",
    "print(a!=c)\n",
    "print(a<b)\n",
    "print(c>b)\n",
    "print(a>=c)\n",
    "print(b<=a)\n"
   ]
  },
  {
   "cell_type": "code",
   "execution_count": 18,
   "id": "a54a9198",
   "metadata": {},
   "outputs": [
    {
     "name": "stdout",
     "output_type": "stream",
     "text": [
      "True\n",
      "False\n",
      "True\n"
     ]
    }
   ],
   "source": [
    "a=100\n",
    "b=200\n",
    "print(a<b)and(b<a)\n",
    "print(b<a)or(a>b)\n",
    "print(not(a>b))\n"
   ]
  },
  {
   "cell_type": "code",
   "execution_count": 19,
   "id": "42fa24d1",
   "metadata": {},
   "outputs": [
    {
     "name": "stdout",
     "output_type": "stream",
     "text": [
      "2643817529872\n",
      "2643817529872\n",
      "True\n"
     ]
    }
   ],
   "source": [
    "a = 10\n",
    "b = 10\n",
    "print(id(a))\n",
    "print(id(b))\n",
    "print(a is b)"
   ]
  },
  {
   "cell_type": "code",
   "execution_count": 21,
   "id": "e5d7991a",
   "metadata": {},
   "outputs": [
    {
     "name": "stdout",
     "output_type": "stream",
     "text": [
      "2643817530192\n",
      "2643817529872\n",
      "False\n"
     ]
    }
   ],
   "source": [
    "a = 20\n",
    "b = 10\n",
    "print(id(a))\n",
    "print(id(b))\n",
    "print(a is  b)"
   ]
  },
  {
   "cell_type": "code",
   "execution_count": 23,
   "id": "709237b8",
   "metadata": {},
   "outputs": [
    {
     "name": "stdout",
     "output_type": "stream",
     "text": [
      "<class 'list'>\n",
      "[11, 22, 33, 44, 55, 66]\n",
      "True\n",
      "False\n"
     ]
    }
   ],
   "source": [
    "list1 = [11,22,33,44,55,66]\n",
    "print(type(list1))\n",
    "print(list1)\n",
    "print(11 in list1)\n",
    "print(22 not in list1)\n"
   ]
  },
  {
   "cell_type": "code",
   "execution_count": 24,
   "id": "b7f905d0",
   "metadata": {},
   "outputs": [
    {
     "name": "stdout",
     "output_type": "stream",
     "text": [
      "<class 'list'>\n",
      "[1, 2, 3, 4, 5, 6, 7]\n",
      "True\n",
      "False\n"
     ]
    }
   ],
   "source": [
    "tup = [1,2,3,4,5,6,7]\n",
    "print(type(tup))\n",
    "print(tup)\n",
    "print(2 in tup)\n",
    "print(5 not in tup)"
   ]
  },
  {
   "cell_type": "code",
   "execution_count": 26,
   "id": "3bab1ff4",
   "metadata": {},
   "outputs": [
    {
     "name": "stdout",
     "output_type": "stream",
     "text": [
      "{'name': 'lili', 'age': 30, 'city': 'pune'}\n",
      "True\n",
      "False\n"
     ]
    }
   ],
   "source": [
    "dict1 = {\n",
    "    'name': 'lili',\n",
    "    'age': 30,\n",
    "    'city': 'pune'\n",
    "}\n",
    "print(dict1)\n",
    "print('age' in dict1)\n",
    "print('sub' in dict1)"
   ]
  },
  {
   "cell_type": "code",
   "execution_count": 29,
   "id": "ace8c9c3",
   "metadata": {},
   "outputs": [
    {
     "name": "stdout",
     "output_type": "stream",
     "text": [
      "<class 'set'>\n",
      "{444, 333, 222, 111}\n",
      "False\n",
      "False\n",
      "True\n"
     ]
    }
   ],
   "source": [
    "set1 = {111,222,333,444}\n",
    "print(type(set1))\n",
    "print(set1)\n",
    "print(111 not in set1)\n",
    "print(55 in set1)\n",
    "print(333 in set1)"
   ]
  },
  {
   "cell_type": "code",
   "execution_count": 30,
   "id": "0f550381",
   "metadata": {},
   "outputs": [
    {
     "name": "stdout",
     "output_type": "stream",
     "text": [
      "0\n"
     ]
    }
   ],
   "source": [
    "a = 10\n",
    "b = 20\n",
    "c = a&b\n",
    "print(c)"
   ]
  },
  {
   "cell_type": "code",
   "execution_count": 31,
   "id": "723bdafe",
   "metadata": {},
   "outputs": [
    {
     "name": "stdout",
     "output_type": "stream",
     "text": [
      "60\n"
     ]
    }
   ],
   "source": [
    "a = 20\n",
    "b = 40\n",
    "c = a|b\n",
    "print(c)"
   ]
  },
  {
   "cell_type": "code",
   "execution_count": 33,
   "id": "7f208eda",
   "metadata": {},
   "outputs": [
    {
     "name": "stdout",
     "output_type": "stream",
     "text": [
      "-51\n"
     ]
    }
   ],
   "source": [
    "b = 50\n",
    "print(~(b))\n"
   ]
  },
  {
   "cell_type": "code",
   "execution_count": 34,
   "id": "38704e95",
   "metadata": {},
   "outputs": [
    {
     "name": "stdout",
     "output_type": "stream",
     "text": [
      "1\n"
     ]
    }
   ],
   "source": [
    "a = 10\n",
    "b = a>>3\n",
    "print(b)"
   ]
  },
  {
   "cell_type": "code",
   "execution_count": 35,
   "id": "5d3b75b0",
   "metadata": {},
   "outputs": [
    {
     "name": "stdout",
     "output_type": "stream",
     "text": [
      "640\n"
     ]
    }
   ],
   "source": [
    "a = 20\n",
    "b = a<<5\n",
    "print(b)"
   ]
  },
  {
   "cell_type": "code",
   "execution_count": 36,
   "id": "b2168f69",
   "metadata": {},
   "outputs": [
    {
     "name": "stdout",
     "output_type": "stream",
     "text": [
      "60\n"
     ]
    }
   ],
   "source": [
    "a = 20\n",
    "b = 40\n",
    "c = a^b\n",
    "print(c)"
   ]
  },
  {
   "cell_type": "markdown",
   "id": "df4c2c42",
   "metadata": {},
   "source": [
    "### conditional statement"
   ]
  },
  {
   "cell_type": "code",
   "execution_count": 37,
   "id": "645d711e",
   "metadata": {},
   "outputs": [
    {
     "name": "stdout",
     "output_type": "stream",
     "text": [
      "a is less\n"
     ]
    }
   ],
   "source": [
    "a = 10\n",
    "b = 20\n",
    "if a<b:\n",
    "    print('a is less')"
   ]
  },
  {
   "cell_type": "code",
   "execution_count": 39,
   "id": "5c6e6dad",
   "metadata": {},
   "outputs": [
    {
     "name": "stdout",
     "output_type": "stream",
     "text": [
      "b is big\n"
     ]
    }
   ],
   "source": [
    "a = 20\n",
    "b = 30\n",
    "if a==b:\n",
    "    print('a is small')\n",
    "else:\n",
    "    print('b is big')"
   ]
  },
  {
   "cell_type": "code",
   "execution_count": 40,
   "id": "0cb9ddba",
   "metadata": {},
   "outputs": [
    {
     "name": "stdout",
     "output_type": "stream",
     "text": [
      "a and b equal\n"
     ]
    }
   ],
   "source": [
    "a = 100\n",
    "b = 100\n",
    "if a!=b:\n",
    "    print('a is less than b')\n",
    "elif a==b:\n",
    "    print('a and b equal')\n",
    "else:\n",
    "    print('a and b not equal')"
   ]
  },
  {
   "cell_type": "code",
   "execution_count": 42,
   "id": "9fee06eb",
   "metadata": {},
   "outputs": [
    {
     "name": "stdout",
     "output_type": "stream",
     "text": [
      "a is less\n"
     ]
    }
   ],
   "source": [
    "a = 10\n",
    "b = 20\n",
    "if a<b:\n",
    "    print('a is less')"
   ]
  },
  {
   "cell_type": "code",
   "execution_count": 54,
   "id": "4e3ea652",
   "metadata": {},
   "outputs": [
    {
     "name": "stdout",
     "output_type": "stream",
     "text": [
      "enter the number10\n"
     ]
    }
   ],
   "source": [
    "x= 150\n",
    "x = int(input('enter the number'))\n",
    "if x==30:\n",
    "    print('x is less')"
   ]
  },
  {
   "cell_type": "markdown",
   "id": "e986847a",
   "metadata": {},
   "source": [
    "### looping statement"
   ]
  },
  {
   "cell_type": "code",
   "execution_count": 59,
   "id": "e9b3a4dc",
   "metadata": {},
   "outputs": [
    {
     "name": "stdout",
     "output_type": "stream",
     "text": [
      "1\n",
      "2\n",
      "3\n",
      "4\n",
      "5\n",
      "6\n",
      "7\n",
      "8\n",
      "9\n",
      "10\n",
      "11\n",
      "12\n",
      "13\n",
      "14\n",
      "15\n",
      "16\n",
      "17\n",
      "18\n",
      "19\n"
     ]
    }
   ],
   "source": [
    "a =1\n",
    "while a<20:\n",
    "    print(a)\n",
    "    a = a+1"
   ]
  },
  {
   "cell_type": "code",
   "execution_count": 60,
   "id": "9d2c84d1",
   "metadata": {},
   "outputs": [
    {
     "name": "stdout",
     "output_type": "stream",
     "text": [
      "1\n",
      "2\n",
      "3\n",
      "4\n",
      "5\n",
      "6\n",
      "7\n",
      "8\n",
      "9\n",
      "10\n",
      "11\n",
      "12\n",
      "13\n",
      "14\n",
      "15\n",
      "16\n",
      "17\n",
      "18\n",
      "19\n",
      "20\n",
      "21\n",
      "22\n",
      "23\n",
      "24\n"
     ]
    }
   ],
   "source": [
    "b = 1\n",
    "while b<25:\n",
    "    print(b)\n",
    "    b = b+1"
   ]
  },
  {
   "cell_type": "code",
   "execution_count": 61,
   "id": "a2a685d6",
   "metadata": {},
   "outputs": [
    {
     "name": "stdout",
     "output_type": "stream",
     "text": [
      "1\n",
      "2\n",
      "3\n",
      "4\n",
      "5\n"
     ]
    }
   ],
   "source": [
    "a = 1\n",
    "while a<20:\n",
    "    print(a)\n",
    "    if a ==5:\n",
    "        break\n",
    "    a =a+1\n",
    "    "
   ]
  },
  {
   "cell_type": "code",
   "execution_count": 62,
   "id": "98a576d8",
   "metadata": {},
   "outputs": [
    {
     "name": "stdout",
     "output_type": "stream",
     "text": [
      "1\n",
      "2\n",
      "3\n",
      "4\n",
      "5\n",
      "6\n",
      "7\n",
      "8\n",
      "9\n",
      "10\n"
     ]
    }
   ],
   "source": [
    "a = 1\n",
    "while a<25:\n",
    "    print(a)\n",
    "    if a==10:\n",
    "        break\n",
    "    a=a+1    "
   ]
  },
  {
   "cell_type": "code",
   "execution_count": 64,
   "id": "85d82454",
   "metadata": {},
   "outputs": [
    {
     "name": "stdout",
     "output_type": "stream",
     "text": [
      "1\n",
      "2\n",
      "3\n",
      "4\n",
      "6\n",
      "7\n",
      "8\n",
      "9\n",
      "10\n",
      "11\n",
      "12\n",
      "13\n",
      "14\n",
      "15\n",
      "16\n",
      "17\n",
      "18\n",
      "19\n"
     ]
    }
   ],
   "source": [
    "a = 1\n",
    "while a<20:\n",
    "    if a==5:\n",
    "        a=a+1\n",
    "        continue\n",
    "    print(a)\n",
    "    a =a+1"
   ]
  },
  {
   "cell_type": "code",
   "execution_count": 65,
   "id": "e7f7aefd",
   "metadata": {},
   "outputs": [
    {
     "name": "stdout",
     "output_type": "stream",
     "text": [
      "20\n",
      "19\n",
      "18\n",
      "17\n",
      "16\n",
      "15\n",
      "14\n",
      "13\n",
      "12\n",
      "11\n",
      "10\n",
      "8\n",
      "7\n",
      "6\n",
      "5\n",
      "4\n",
      "3\n",
      "2\n"
     ]
    }
   ],
   "source": [
    "a = 20\n",
    "while a>1:\n",
    "    if a==9:\n",
    "        a=a-1\n",
    "        continue\n",
    "    print(a)\n",
    "    a =a-1"
   ]
  },
  {
   "cell_type": "code",
   "execution_count": 67,
   "id": "d3aab348",
   "metadata": {},
   "outputs": [
    {
     "name": "stdout",
     "output_type": "stream",
     "text": [
      "0\n",
      "1\n",
      "2\n",
      "4\n",
      "5\n",
      "6\n",
      "7\n",
      "8\n",
      "9\n",
      "10\n",
      "11\n",
      "12\n",
      "13\n",
      "14\n",
      "15\n",
      "16\n",
      "17\n",
      "18\n",
      "19\n",
      "20\n",
      "21\n",
      "22\n",
      "23\n",
      "24\n",
      "25\n",
      "26\n",
      "27\n",
      "28\n",
      "29\n"
     ]
    }
   ],
   "source": [
    "a = 0\n",
    "while a<30:\n",
    "    if a==3:\n",
    "        a =a+1\n",
    "        pass\n",
    "    print(a)\n",
    "    a=a+1"
   ]
  },
  {
   "cell_type": "code",
   "execution_count": 68,
   "id": "d713d19d",
   "metadata": {},
   "outputs": [
    {
     "name": "stdout",
     "output_type": "stream",
     "text": [
      "1\n",
      "2\n",
      "3\n",
      "4\n",
      "6\n",
      "7\n",
      "8\n",
      "9\n",
      "10\n",
      "11\n",
      "12\n",
      "13\n",
      "14\n",
      "hello loop\n"
     ]
    }
   ],
   "source": [
    "a =1\n",
    "while a<15:\n",
    "    if a==5:\n",
    "        a =a+1\n",
    "        continue\n",
    "    print(a)\n",
    "    a =a+1\n",
    "else:\n",
    "    print('hello loop')"
   ]
  },
  {
   "cell_type": "code",
   "execution_count": 71,
   "id": "c07a7033",
   "metadata": {},
   "outputs": [
    {
     "name": "stdout",
     "output_type": "stream",
     "text": [
      "[11, 22, 33, 44, 55, 66]\n",
      "while on list\n"
     ]
    }
   ],
   "source": [
    "l = [11,22,33,44,55,66]\n",
    "print(l)\n",
    "print('while on list')\n",
    "a = 6\n",
    "while a<len(l):\n",
    "    print(l[a])\n",
    "    a =a+1"
   ]
  },
  {
   "cell_type": "code",
   "execution_count": 72,
   "id": "4e6dc146",
   "metadata": {},
   "outputs": [
    {
     "name": "stdout",
     "output_type": "stream",
     "text": [
      "[1, 2, 3, 4, 5, 6, 7, 8]\n",
      "while on list\n",
      "1\n",
      "2\n",
      "3\n",
      "4\n",
      "5\n",
      "6\n",
      "7\n",
      "8\n"
     ]
    }
   ],
   "source": [
    "a = [1,2,3,4,5,6,7,8]\n",
    "print(a)\n",
    "print('while on list')\n",
    "b = 0\n",
    "while b<len(a):\n",
    "    print(a[b])\n",
    "    b = b+1"
   ]
  },
  {
   "cell_type": "code",
   "execution_count": 75,
   "id": "29c7f550",
   "metadata": {},
   "outputs": [
    {
     "name": "stdout",
     "output_type": "stream",
     "text": [
      "('aa', 'bb', 'cc', 'dd')\n",
      "while on list\n",
      "aa\n",
      "bb\n",
      "cc\n",
      "dd\n"
     ]
    }
   ],
   "source": [
    "s = ('aa','bb','cc','dd')\n",
    "print(s)\n",
    "print('while on list')\n",
    "a =0\n",
    "while a<len(s):\n",
    "    print(s[a])\n",
    "    a = a+1"
   ]
  },
  {
   "cell_type": "code",
   "execution_count": 86,
   "id": "dc5f62ab",
   "metadata": {},
   "outputs": [
    {
     "name": "stdout",
     "output_type": "stream",
     "text": [
      "('apple', 'kiwi', 'lemon', 'cherry')\n",
      "while on list\n",
      "apple\n",
      "kiwi\n",
      "lemon\n",
      "cherry\n"
     ]
    }
   ],
   "source": [
    "tup = ('apple','kiwi','lemon','cherry')\n",
    "print(tup)\n",
    "print('while on list')\n",
    "a = 0\n",
    "while a<len(tup):\n",
    "    print(tup[a])\n",
    "    a = a+1"
   ]
  },
  {
   "cell_type": "code",
   "execution_count": 87,
   "id": "6854bb0c",
   "metadata": {},
   "outputs": [
    {
     "name": "stdout",
     "output_type": "stream",
     "text": [
      "('aa', 'bb', 'cc', 'dd', 'ee')\n",
      "while on list\n",
      "aa\n",
      "bb\n",
      "cc\n",
      "dd\n",
      "ee\n"
     ]
    }
   ],
   "source": [
    "tup = ('aa','bb','cc','dd','ee')\n",
    "print(tup)\n",
    "print('while on list')\n",
    "a = 0\n",
    "while a<len(tup):\n",
    "    print(tup[a])\n",
    "    a =a+1"
   ]
  },
  {
   "cell_type": "code",
   "execution_count": 88,
   "id": "a43c4f5e",
   "metadata": {},
   "outputs": [
    {
     "name": "stdout",
     "output_type": "stream",
     "text": [
      "aa\n"
     ]
    }
   ],
   "source": [
    "for a in tup:\n",
    "    if a =='aa':\n",
    "        print(a)"
   ]
  },
  {
   "cell_type": "code",
   "execution_count": 90,
   "id": "bfdf6644",
   "metadata": {},
   "outputs": [
    {
     "name": "stdout",
     "output_type": "stream",
     "text": [
      "<class 'list'>\n",
      "['mango', 'kiwi', 'lemon', 'cherry', 'berry']\n",
      "5\n",
      "kiwi\n"
     ]
    }
   ],
   "source": [
    "list1 = ['mango','kiwi','lemon','cherry','berry']\n",
    "print(type(list1))\n",
    "print(list1)\n",
    "print(len(list1))\n",
    "for x in list1:\n",
    "    if x =='kiwi':\n",
    "        print(x)"
   ]
  },
  {
   "cell_type": "code",
   "execution_count": 92,
   "id": "e634885d",
   "metadata": {},
   "outputs": [
    {
     "name": "stdout",
     "output_type": "stream",
     "text": [
      "this is string\n",
      "14\n",
      "s\n",
      "s\n",
      "s\n"
     ]
    }
   ],
   "source": [
    "str1 = 'this is string'\n",
    "print(str1)\n",
    "print(len(str1))\n",
    "for a in str1:\n",
    "    if a =='s':\n",
    "        print(a)"
   ]
  },
  {
   "cell_type": "code",
   "execution_count": 95,
   "id": "dd2d4196",
   "metadata": {},
   "outputs": [
    {
     "name": "stdout",
     "output_type": "stream",
     "text": [
      "this is a string\n",
      "16\n",
      "t\n",
      "i\n",
      "s\n",
      " \n",
      "i\n",
      "s\n",
      " \n",
      "a\n",
      " \n",
      "s\n",
      "t\n",
      "r\n",
      "i\n",
      "n\n",
      "g\n"
     ]
    }
   ],
   "source": [
    "str1 = 'this is a string'\n",
    "print(str1)\n",
    "print(len(str1))\n",
    "for a in str1:\n",
    "    if a =='h':\n",
    "        continue\n",
    "    print(a)"
   ]
  },
  {
   "cell_type": "code",
   "execution_count": 100,
   "id": "301642e5",
   "metadata": {},
   "outputs": [
    {
     "name": "stdout",
     "output_type": "stream",
     "text": [
      "(1, 2, 3, 4, 5, 6, 7, 8)\n",
      "8\n",
      "1\n",
      "2\n",
      "3\n",
      "4\n",
      "5\n",
      "6\n",
      "7\n",
      "8\n"
     ]
    }
   ],
   "source": [
    "tup =(1,2,3,4,5,6,7,8)\n",
    "print(tup)\n",
    "print(len(tup))\n",
    "for a in tup:\n",
    "    if a ==3:\n",
    "        pass\n",
    "    print(a)"
   ]
  },
  {
   "cell_type": "code",
   "execution_count": 113,
   "id": "a447a669",
   "metadata": {},
   "outputs": [
    {
     "name": "stdout",
     "output_type": "stream",
     "text": [
      "{'name': 'lili', 'sub': 'cs', 'age': 40, 'city': 'pune'}\n",
      "4\n",
      "sub\n",
      "lili\n",
      "cs\n",
      "40\n",
      "pune\n",
      "name\n",
      "sub\n",
      "age\n",
      "city\n",
      "('name', 'lili')\n",
      "('sub', 'cs')\n",
      "('age', 40)\n",
      "('city', 'pune')\n",
      "name : lili\n",
      "sub : cs\n",
      "age : 40\n",
      "city : pune\n"
     ]
    }
   ],
   "source": [
    "dict1 = {\n",
    "    'name':'lili',\n",
    "    'sub':'cs',\n",
    "    'age': 40,\n",
    "    'city':'pune'\n",
    "}\n",
    "print(dict1)\n",
    "print(len(dict1))\n",
    "for a in dict1:\n",
    "    if a =='sub':\n",
    "        print(a)\n",
    "for a in dict1.values():\n",
    "    print(a)\n",
    "for b in dict1.keys():\n",
    "    print(b)\n",
    "for a in dict1.items():\n",
    "    print(a)\n",
    "for a,b in dict1.items():\n",
    "    print(a,\":\",b)"
   ]
  },
  {
   "cell_type": "code",
   "execution_count": 118,
   "id": "6a7b04ad",
   "metadata": {},
   "outputs": [
    {
     "name": "stdout",
     "output_type": "stream",
     "text": [
      "{'name': 'lili', 'age': 40, 'city': 'pune', 'sub': 'cs'}\n",
      "4\n",
      "name\n",
      "age\n",
      "city\n",
      "sub\n",
      "name\n",
      "age\n",
      "city\n",
      "sub\n",
      "lili\n",
      "40\n",
      "pune\n",
      "cs\n",
      "('name', 'lili')\n",
      "('age', 40)\n",
      "('city', 'pune')\n",
      "('sub', 'cs')\n",
      "name : lili\n",
      "age : 40\n",
      "city : pune\n",
      "sub : cs\n"
     ]
    }
   ],
   "source": [
    "d = {\n",
    "    'name': 'lili',\n",
    "    'age':40,\n",
    "    'city': 'pune',\n",
    "    'sub': 'cs'\n",
    "}\n",
    "print(d)\n",
    "print(len(d))\n",
    "for a in d:\n",
    "    print(a)\n",
    "for b in d.keys():\n",
    "    print(b)\n",
    "for c in d.values():\n",
    "    print(c)\n",
    "for e in d.items():\n",
    "    print(e)\n",
    "for b,c in d.items():\n",
    "    print(b,\":\",c)"
   ]
  },
  {
   "cell_type": "code",
   "execution_count": 119,
   "id": "66f644d7",
   "metadata": {},
   "outputs": [
    {
     "name": "stdout",
     "output_type": "stream",
     "text": [
      "{'aa', 'ee', 'bb', 'cc', 'gg', 'dd', 'ff', 'hh'}\n",
      "8\n",
      "aa\n",
      "ee\n",
      "bb\n",
      "cc\n",
      "gg\n",
      "dd\n",
      "ff\n",
      "hh\n",
      "aa\n",
      "ee\n",
      "bb\n",
      "cc\n",
      "gg\n",
      "dd\n",
      "ff\n",
      "hh\n",
      "aa\n",
      "ee\n",
      "bb\n",
      "cc\n",
      "gg\n",
      "dd\n",
      "ff\n",
      "hh\n"
     ]
    }
   ],
   "source": [
    "set1 = {'aa','bb','cc','dd','ee','ff','gg','hh'}\n",
    "print(set1)\n",
    "print(len(set1))\n",
    "for a in set1:\n",
    "    print(a)\n",
    "for b in set1:\n",
    "    print(b)\n",
    "for c in set1:\n",
    "    print(c)"
   ]
  },
  {
   "cell_type": "markdown",
   "id": "d59f5f41",
   "metadata": {},
   "source": [
    "### range"
   ]
  },
  {
   "cell_type": "code",
   "execution_count": 120,
   "id": "ab2d5876",
   "metadata": {},
   "outputs": [
    {
     "name": "stdout",
     "output_type": "stream",
     "text": [
      "0\n",
      "1\n",
      "2\n",
      "3\n",
      "4\n"
     ]
    }
   ],
   "source": [
    "for a in range(5):\n",
    "    print(a)"
   ]
  },
  {
   "cell_type": "code",
   "execution_count": 122,
   "id": "b06348d3",
   "metadata": {},
   "outputs": [
    {
     "name": "stdout",
     "output_type": "stream",
     "text": [
      "1\n",
      "2\n",
      "3\n",
      "4\n",
      "5\n",
      "6\n",
      "7\n",
      "8\n",
      "9\n"
     ]
    }
   ],
   "source": [
    "for b in range(1,10):\n",
    "    print(b)"
   ]
  },
  {
   "cell_type": "code",
   "execution_count": 123,
   "id": "74750d85",
   "metadata": {},
   "outputs": [
    {
     "name": "stdout",
     "output_type": "stream",
     "text": [
      "1\n",
      "6\n",
      "11\n",
      "16\n"
     ]
    }
   ],
   "source": [
    "for c in range(1,20,5):\n",
    "    print(c)"
   ]
  },
  {
   "cell_type": "code",
   "execution_count": 124,
   "id": "dc78e6ac",
   "metadata": {},
   "outputs": [
    {
     "name": "stdout",
     "output_type": "stream",
     "text": [
      "1\n",
      "3\n",
      "5\n",
      "7\n",
      "9\n",
      "11\n",
      "13\n",
      "15\n",
      "17\n",
      "19\n"
     ]
    }
   ],
   "source": [
    "for a in range(1,20,2):\n",
    "    print(a)"
   ]
  },
  {
   "cell_type": "code",
   "execution_count": 126,
   "id": "cf2c0b75",
   "metadata": {},
   "outputs": [
    {
     "name": "stdout",
     "output_type": "stream",
     "text": [
      "100\n",
      "105\n",
      "110\n",
      "115\n",
      "120\n",
      "125\n",
      "130\n",
      "135\n",
      "140\n",
      "145\n",
      "150\n",
      "155\n",
      "160\n",
      "165\n",
      "170\n",
      "175\n",
      "180\n",
      "185\n",
      "190\n",
      "195\n",
      "200\n",
      "205\n",
      "210\n",
      "215\n",
      "220\n",
      "225\n",
      "230\n",
      "235\n",
      "240\n",
      "245\n",
      "250\n"
     ]
    }
   ],
   "source": [
    "for a in range(100,255,5):\n",
    "    print(a)"
   ]
  },
  {
   "cell_type": "code",
   "execution_count": 127,
   "id": "da4efb62",
   "metadata": {},
   "outputs": [
    {
     "name": "stdout",
     "output_type": "stream",
     "text": [
      "1\n",
      "2\n",
      "3\n",
      "4\n",
      "5\n",
      "6\n",
      "7\n",
      "8\n",
      "9\n",
      "10\n",
      "11\n",
      "12\n",
      "13\n",
      "14\n",
      "hello\n"
     ]
    }
   ],
   "source": [
    "for a in range(1,15,1):\n",
    "    print(a)\n",
    "else:\n",
    "    print('hello')"
   ]
  },
  {
   "cell_type": "code",
   "execution_count": 128,
   "id": "d7262073",
   "metadata": {},
   "outputs": [
    {
     "name": "stdout",
     "output_type": "stream",
     "text": [
      "1\n",
      "5\n",
      "9\n",
      "13\n",
      "hi\n"
     ]
    }
   ],
   "source": [
    "for a in range(1,15,4):\n",
    "    print(a)\n",
    "else:\n",
    "    print('hi')\n",
    "    "
   ]
  },
  {
   "cell_type": "code",
   "execution_count": 129,
   "id": "007abbbd",
   "metadata": {},
   "outputs": [
    {
     "name": "stdout",
     "output_type": "stream",
     "text": [
      "enter the number20\n",
      "enter the number40\n",
      "60\n"
     ]
    }
   ],
   "source": [
    "a = int(input('enter the number'))\n",
    "b = int(input('enter the number'))\n",
    "c = a+b\n",
    "print(c)\n"
   ]
  },
  {
   "cell_type": "code",
   "execution_count": 132,
   "id": "e80249d0",
   "metadata": {},
   "outputs": [
    {
     "name": "stdout",
     "output_type": "stream",
     "text": [
      "enter the number90\n",
      "A greade\n"
     ]
    }
   ],
   "source": [
    "a = int(input('enter the number'))\n",
    "if a>=90:\n",
    "    print('A greade')\n",
    "elif a>=75:\n",
    "    print('b greade')\n",
    "elif a>= 60:\n",
    "    print('c grede')\n",
    "else:\n",
    "    print('pass')\n",
    "    "
   ]
  },
  {
   "cell_type": "code",
   "execution_count": 134,
   "id": "34974e90",
   "metadata": {},
   "outputs": [
    {
     "name": "stdout",
     "output_type": "stream",
     "text": [
      "enter the number20\n"
     ]
    },
    {
     "data": {
      "text/plain": [
       "int"
      ]
     },
     "execution_count": 134,
     "metadata": {},
     "output_type": "execute_result"
    }
   ],
   "source": [
    "a = int(input('enter the number'))\n",
    "b = int(a)\n",
    "type(b)"
   ]
  },
  {
   "cell_type": "code",
   "execution_count": 136,
   "id": "b62df534",
   "metadata": {},
   "outputs": [
    {
     "name": "stdout",
     "output_type": "stream",
     "text": [
      "enter the number30\n",
      "enter the number70\n",
      "enter the number20\n",
      "2100\n",
      "40\n"
     ]
    }
   ],
   "source": [
    "a = int(input('enter the number'))\n",
    "b = int(input('enter the number'))\n",
    "c = int(input('enter the number'))\n",
    "d = a*b\n",
    "e = b-a\n",
    "print(d)\n",
    "print(e)"
   ]
  },
  {
   "cell_type": "code",
   "execution_count": 1,
   "id": "732add39",
   "metadata": {},
   "outputs": [
    {
     "name": "stdout",
     "output_type": "stream",
     "text": [
      "a is less\n"
     ]
    }
   ],
   "source": [
    "a =10\n",
    "b = 20\n",
    "if a<b : print('a is less')"
   ]
  },
  {
   "cell_type": "code",
   "execution_count": 4,
   "id": "dccbe1e0",
   "metadata": {},
   "outputs": [
    {
     "name": "stdout",
     "output_type": "stream",
     "text": [
      "a is small\n"
     ]
    }
   ],
   "source": [
    "a =10\n",
    "b = 10\n",
    "print('a is small') if a==b  else print('a and b equal') "
   ]
  },
  {
   "cell_type": "markdown",
   "id": "8f429194",
   "metadata": {},
   "source": [
    "### function"
   ]
  },
  {
   "cell_type": "code",
   "execution_count": 1,
   "id": "16ec6be5",
   "metadata": {},
   "outputs": [
    {
     "name": "stdout",
     "output_type": "stream",
     "text": [
      "hello\n"
     ]
    }
   ],
   "source": [
    "def display():\n",
    "    print('hello')\n",
    "display()    "
   ]
  },
  {
   "cell_type": "code",
   "execution_count": 2,
   "id": "e3b72d4f",
   "metadata": {},
   "outputs": [
    {
     "name": "stdout",
     "output_type": "stream",
     "text": [
      "hello\n"
     ]
    }
   ],
   "source": [
    "def display():\n",
    "    print('hello')\n",
    "display()    "
   ]
  },
  {
   "cell_type": "code",
   "execution_count": 3,
   "id": "fea7574e",
   "metadata": {},
   "outputs": [
    {
     "name": "stdout",
     "output_type": "stream",
     "text": [
      "hello\n",
      "hi function\n",
      "hey\n",
      "hii\n",
      "hello fun\n"
     ]
    }
   ],
   "source": [
    "print('hello')\n",
    "def display():\n",
    "    print('hey')\n",
    "    print('hii')\n",
    "print('hi function')\n",
    "display()\n",
    "print('hello fun')"
   ]
  },
  {
   "cell_type": "code",
   "execution_count": 4,
   "id": "c5c18045",
   "metadata": {},
   "outputs": [
    {
     "name": "stdout",
     "output_type": "stream",
     "text": [
      "hello\n",
      "hey\n",
      "hey fun\n",
      "hii\n",
      "hello fun\n",
      "hii function\n"
     ]
    }
   ],
   "source": [
    "print('hello')\n",
    "print('hey')\n",
    "def display():\n",
    "    print('hii')\n",
    "    print('hello fun')\n",
    "print('hey fun')\n",
    "display()\n",
    "print('hii function')"
   ]
  },
  {
   "cell_type": "code",
   "execution_count": 6,
   "id": "f2d40842",
   "metadata": {},
   "outputs": [
    {
     "name": "stdout",
     "output_type": "stream",
     "text": [
      "100\n"
     ]
    }
   ],
   "source": [
    "def display(a):\n",
    "    print(a)\n",
    "a = 100\n",
    "display(a)"
   ]
  },
  {
   "cell_type": "code",
   "execution_count": 7,
   "id": "d3ae1069",
   "metadata": {},
   "outputs": [
    {
     "name": "stdout",
     "output_type": "stream",
     "text": [
      "10\n",
      "20\n"
     ]
    }
   ],
   "source": [
    "def display(a,b):\n",
    "    print(a)\n",
    "    print(b)\n",
    "a = 10\n",
    "b = 20\n",
    "display(a,b)"
   ]
  },
  {
   "cell_type": "code",
   "execution_count": 8,
   "id": "9910edfc",
   "metadata": {},
   "outputs": [
    {
     "name": "stdout",
     "output_type": "stream",
     "text": [
      "80\n"
     ]
    }
   ],
   "source": [
    "def display(a,b):\n",
    "    c = a+b\n",
    "    print(c)\n",
    "a = 30\n",
    "b = 50\n",
    "display(a,b)\n",
    "    "
   ]
  },
  {
   "cell_type": "code",
   "execution_count": 9,
   "id": "2e2e3188",
   "metadata": {},
   "outputs": [
    {
     "name": "stdout",
     "output_type": "stream",
     "text": [
      "enter the number70\n",
      "enter the number6\n",
      "420\n"
     ]
    }
   ],
   "source": [
    "def display(x,y):\n",
    "    z = x*y\n",
    "    print(z)\n",
    "x = int(input('enter the number'))\n",
    "y = int(input('enter the number'))\n",
    "display(x,y)"
   ]
  },
  {
   "cell_type": "code",
   "execution_count": 10,
   "id": "9fcd083d",
   "metadata": {},
   "outputs": [
    {
     "name": "stdout",
     "output_type": "stream",
     "text": [
      "300\n"
     ]
    }
   ],
   "source": [
    "def display(a,b):\n",
    "    c = a+b\n",
    "    return c\n",
    "a = 100\n",
    "b = 200\n",
    "result = display(a,b)\n",
    "print(result)"
   ]
  },
  {
   "cell_type": "code",
   "execution_count": 11,
   "id": "42da3b97",
   "metadata": {},
   "outputs": [
    {
     "name": "stdout",
     "output_type": "stream",
     "text": [
      "1000\n"
     ]
    }
   ],
   "source": [
    "def add(x,y):\n",
    "    z = x +y\n",
    "    return z\n",
    "x = 400\n",
    "y = 600\n",
    "a = add(x,y)\n",
    "print(a)\n"
   ]
  },
  {
   "cell_type": "code",
   "execution_count": 12,
   "id": "d57a751e",
   "metadata": {},
   "outputs": [
    {
     "name": "stdout",
     "output_type": "stream",
     "text": [
      "1200\n"
     ]
    }
   ],
   "source": [
    "def mul(x,y):\n",
    "    z = x*y\n",
    "    return z\n",
    "x = 40\n",
    "y = 30\n",
    "a = mul(x,y)\n",
    "print(a)"
   ]
  },
  {
   "cell_type": "code",
   "execution_count": 13,
   "id": "370ce0e6",
   "metadata": {},
   "outputs": [
    {
     "name": "stdout",
     "output_type": "stream",
     "text": [
      "('a', 'b', 'c', 'd', 'e')\n",
      "5\n",
      "a\n",
      "b\n",
      "c\n",
      "d\n",
      "e\n"
     ]
    }
   ],
   "source": [
    "def display(*letter):\n",
    "    print(letter)\n",
    "    l = len(letter)\n",
    "    print(l)\n",
    "    for i in letter:\n",
    "        print(i)\n",
    "display('a','b','c','d','e')        "
   ]
  },
  {
   "cell_type": "code",
   "execution_count": 14,
   "id": "82a5b7b2",
   "metadata": {},
   "outputs": [
    {
     "name": "stdout",
     "output_type": "stream",
     "text": [
      "('aa', 'bb', 'cc', 'dd', 'ee', 'ff')\n",
      "6\n",
      "aa\n",
      "bb\n",
      "cc\n",
      "dd\n",
      "ee\n",
      "ff\n"
     ]
    }
   ],
   "source": [
    "def display(*letter):\n",
    "    print(letter)\n",
    "    l = len(letter)\n",
    "    print(l)\n",
    "    for  i in letter:\n",
    "        print(i)\n",
    "display('aa','bb','cc','dd','ee','ff')\n",
    "\n"
   ]
  },
  {
   "cell_type": "code",
   "execution_count": 16,
   "id": "17a68f8e",
   "metadata": {},
   "outputs": [
    {
     "name": "stdout",
     "output_type": "stream",
     "text": [
      "{'fname': 'lili', 'lname': 'kuku'}\n",
      "lili\n",
      "kuku\n"
     ]
    }
   ],
   "source": [
    "def display(**name):\n",
    "    print(name)\n",
    "    print(name['fname'])\n",
    "    print(name['lname'])\n",
    "display(fname = 'lili', lname = 'kuku')"
   ]
  },
  {
   "cell_type": "code",
   "execution_count": 17,
   "id": "364938f1",
   "metadata": {},
   "outputs": [
    {
     "name": "stdout",
     "output_type": "stream",
     "text": [
      "{'veg': 'chili kopta', 'nonveg': 'chiken65'}\n",
      "chili kopta\n",
      "chiken65\n"
     ]
    }
   ],
   "source": [
    "def display(**fname):\n",
    "    print(fname)\n",
    "    print(fname['veg'])\n",
    "    print(fname['nonveg'])\n",
    "display(veg = 'chili kopta', nonveg = 'chiken65')    "
   ]
  },
  {
   "cell_type": "code",
   "execution_count": 18,
   "id": "db9193d7",
   "metadata": {},
   "outputs": [
    {
     "name": "stdout",
     "output_type": "stream",
     "text": [
      "alternate mail\n",
      "vst@gmail,com\n",
      "abc@gmail.com\n"
     ]
    }
   ],
   "source": [
    "def display(email = 'abc@gmail.com'):\n",
    "    print(email)\n",
    "print('alternate mail')\n",
    "display('vst@gmail,com')\n",
    "display()"
   ]
  },
  {
   "cell_type": "code",
   "execution_count": 19,
   "id": "00bc5318",
   "metadata": {},
   "outputs": [
    {
     "name": "stdout",
     "output_type": "stream",
     "text": [
      "alternate mail\n",
      "abc@.com\n",
      "xyz@gmail.com\n"
     ]
    }
   ],
   "source": [
    "def display(mail = 'xyz@gmail.com'):\n",
    "    print(mail)\n",
    "print('alternate mail')\n",
    "display('abc@.com')\n",
    "display()\n",
    "    \n"
   ]
  },
  {
   "cell_type": "markdown",
   "id": "98230023",
   "metadata": {},
   "source": [
    "### lambda function"
   ]
  },
  {
   "cell_type": "code",
   "execution_count": 20,
   "id": "e48a5e59",
   "metadata": {},
   "outputs": [
    {
     "data": {
      "text/plain": [
       "6"
      ]
     },
     "execution_count": 20,
     "metadata": {},
     "output_type": "execute_result"
    }
   ],
   "source": [
    "square = lambda a : a*2\n",
    "square(3)"
   ]
  },
  {
   "cell_type": "code",
   "execution_count": 21,
   "id": "41e8d48c",
   "metadata": {},
   "outputs": [
    {
     "data": {
      "text/plain": [
       "99"
      ]
     },
     "execution_count": 21,
     "metadata": {},
     "output_type": "execute_result"
    }
   ],
   "source": [
    "add = lambda a,b,c: a+b+c\n",
    "add(22,33,44)"
   ]
  },
  {
   "cell_type": "code",
   "execution_count": 22,
   "id": "f824ed15",
   "metadata": {},
   "outputs": [
    {
     "data": {
      "text/plain": [
       "150"
      ]
     },
     "execution_count": 22,
     "metadata": {},
     "output_type": "execute_result"
    }
   ],
   "source": [
    "mul = lambda x,y : x*y\n",
    "mul(30,5)"
   ]
  },
  {
   "cell_type": "code",
   "execution_count": 23,
   "id": "e936c7de",
   "metadata": {},
   "outputs": [
    {
     "name": "stdout",
     "output_type": "stream",
     "text": [
      "20\n"
     ]
    },
    {
     "data": {
      "text/plain": [
       "50"
      ]
     },
     "execution_count": 23,
     "metadata": {},
     "output_type": "execute_result"
    }
   ],
   "source": [
    "def fun(n):\n",
    "    print(n)\n",
    "    return (lambda a : a+n)\n",
    "myfun = fun(20)\n",
    "myfun(30)"
   ]
  },
  {
   "cell_type": "code",
   "execution_count": 25,
   "id": "17f17a79",
   "metadata": {},
   "outputs": [
    {
     "name": "stdout",
     "output_type": "stream",
     "text": [
      "30\n",
      "40\n"
     ]
    },
    {
     "data": {
      "text/plain": [
       "270"
      ]
     },
     "execution_count": 25,
     "metadata": {},
     "output_type": "execute_result"
    }
   ],
   "source": [
    "def fun(a,b):\n",
    "    print(a)\n",
    "    print(b)\n",
    "    return (lambda x : x+a+b)\n",
    "myfun = fun(30,40)\n",
    "myfun(200)"
   ]
  },
  {
   "cell_type": "code",
   "execution_count": 26,
   "id": "b64924db",
   "metadata": {},
   "outputs": [
    {
     "name": "stdout",
     "output_type": "stream",
     "text": [
      "20\n",
      "40\n"
     ]
    },
    {
     "data": {
      "text/plain": [
       "80000"
      ]
     },
     "execution_count": 26,
     "metadata": {},
     "output_type": "execute_result"
    }
   ],
   "source": [
    "def myfun(x,y):\n",
    "    print(x)\n",
    "    print(y)\n",
    "    return (lambda z : z*x*y)\n",
    "fun = myfun(20,40)\n",
    "fun(100)"
   ]
  },
  {
   "cell_type": "code",
   "execution_count": 27,
   "id": "617bb389",
   "metadata": {},
   "outputs": [
    {
     "name": "stdout",
     "output_type": "stream",
     "text": [
      "80\n"
     ]
    }
   ],
   "source": [
    "double = lambda a : a*4\n",
    "print(double(20))"
   ]
  },
  {
   "cell_type": "code",
   "execution_count": 28,
   "id": "448286e7",
   "metadata": {},
   "outputs": [
    {
     "name": "stdout",
     "output_type": "stream",
     "text": [
      "6.0\n"
     ]
    }
   ],
   "source": [
    "tripple = lambda x : x/5\n",
    "print(tripple(30))"
   ]
  },
  {
   "cell_type": "markdown",
   "id": "2c871925",
   "metadata": {},
   "source": [
    "### class"
   ]
  },
  {
   "cell_type": "code",
   "execution_count": 30,
   "id": "154798bb",
   "metadata": {},
   "outputs": [
    {
     "name": "stdout",
     "output_type": "stream",
     "text": [
      "vaishnavi\n"
     ]
    }
   ],
   "source": [
    "class abc:\n",
    "    name = 'vaishnavi'\n",
    "a = abc()\n",
    "print(a.name)\n",
    "    "
   ]
  },
  {
   "cell_type": "code",
   "execution_count": 31,
   "id": "a44cf48d",
   "metadata": {},
   "outputs": [
    {
     "name": "stdout",
     "output_type": "stream",
     "text": [
      "thorat\n"
     ]
    }
   ],
   "source": [
    "class xyz:\n",
    "    name = 'thorat'\n",
    "o = xyz()\n",
    "print(o.name)"
   ]
  },
  {
   "cell_type": "code",
   "execution_count": 33,
   "id": "73172ec3",
   "metadata": {},
   "outputs": [
    {
     "name": "stdout",
     "output_type": "stream",
     "text": [
      "('lili',)\n",
      "('cs',)\n",
      "30\n"
     ]
    }
   ],
   "source": [
    "class s:\n",
    "    name = 'lili',\n",
    "    sub = 'cs',\n",
    "    age = 30\n",
    "a = s()\n",
    "print(a.name)\n",
    "print(a.sub)\n",
    "print(a.age)\n",
    "    "
   ]
  },
  {
   "cell_type": "code",
   "execution_count": 35,
   "id": "6eec39fa",
   "metadata": {},
   "outputs": [
    {
     "name": "stdout",
     "output_type": "stream",
     "text": [
      "vaishnavi\n",
      "thorat\n",
      "lili\n",
      "jain\n"
     ]
    }
   ],
   "source": [
    "class stud:\n",
    "    def __init__(self,nm,lnm):\n",
    "        self.name = nm\n",
    "        self.lname = lnm\n",
    "    def display(self):\n",
    "        print(self.name)\n",
    "        print(self.lname)\n",
    "s = stud('vaishnavi','thorat')\n",
    "print(s.name)\n",
    "print(s.lname)\n",
    "s1 = stud('lili','jain')\n",
    "print(s1.name)\n",
    "print(s1.lname)"
   ]
  },
  {
   "cell_type": "code",
   "execution_count": 36,
   "id": "3257416f",
   "metadata": {},
   "outputs": [
    {
     "name": "stdout",
     "output_type": "stream",
     "text": [
      "vaishnavi\n",
      "cs\n",
      "30\n",
      "pune\n"
     ]
    }
   ],
   "source": [
    "class emp:\n",
    "    def __init__(self,nm,sub,age,c):\n",
    "        self.name = nm\n",
    "        self.sub = sub\n",
    "        self.age = age\n",
    "        self.city = c\n",
    "    def display(self):\n",
    "        print(self.name)\n",
    "        print(self.sub)\n",
    "        print(self.age)\n",
    "        print(self.city)\n",
    "c = emp('vaishnavi','cs',30,'pune')\n",
    "print(c.name)\n",
    "print(c.sub)\n",
    "print(c.age)\n",
    "print(c.city)"
   ]
  },
  {
   "cell_type": "code",
   "execution_count": 39,
   "id": "17fd5e12",
   "metadata": {},
   "outputs": [
    {
     "name": "stdout",
     "output_type": "stream",
     "text": [
      "lili\n",
      "40\n",
      "cs\n",
      "delhi\n",
      "lili\n",
      "40\n",
      "cs\n",
      "delhi\n",
      "lili\n",
      "40\n",
      "cs\n",
      "delhi\n"
     ]
    }
   ],
   "source": [
    "class stud:\n",
    "    def __init__(self,nm,rn,sub,age,c):\n",
    "        self.name = nm\n",
    "        self.rollno = rn\n",
    "        self.sub = sub\n",
    "        self.age = age\n",
    "        self.city = c\n",
    "    def display(self):\n",
    "        print(self.name)\n",
    "        print(self.rollno)\n",
    "        print(self.sub)\n",
    "        print(self.city)\n",
    "    def change(self,age):\n",
    "        self.age = age\n",
    "        self.display()\n",
    "a = stud('lili',40,'cs',30,'delhi')\n",
    "a.display()\n",
    "b = 30\n",
    "a.change(b)\n",
    "a.display()"
   ]
  },
  {
   "cell_type": "code",
   "execution_count": 46,
   "id": "ce8fd3b6",
   "metadata": {},
   "outputs": [
    {
     "name": "stdout",
     "output_type": "stream",
     "text": [
      "lili\n",
      "kuku\n",
      "jain\n",
      "lili\n",
      "kuku\n",
      "varma\n"
     ]
    }
   ],
   "source": [
    "class teacher:\n",
    "    def __init__(self,nm,mnm,lnm):\n",
    "        self.name = nm\n",
    "        self.mname = mnm\n",
    "        self.lname = lnm\n",
    "        \n",
    "    def display(self):\n",
    "        print(self.name)\n",
    "        print(self.mname)\n",
    "        print(self.lname)\n",
    "    def change (self,lnm):\n",
    "        self.lname = lnm\n",
    "        self.display()\n",
    "        \n",
    "t = teacher('lili','kuku','jain')\n",
    "t.display()\n",
    "t1 = 'varma'\n",
    "t.change(t1)\n",
    "\n"
   ]
  },
  {
   "cell_type": "markdown",
   "id": "34209d38",
   "metadata": {},
   "source": [
    "### inheritance"
   ]
  },
  {
   "cell_type": "code",
   "execution_count": 47,
   "id": "a73690b5",
   "metadata": {},
   "outputs": [
    {
     "name": "stdout",
     "output_type": "stream",
     "text": [
      "lili\n",
      "kuku\n"
     ]
    }
   ],
   "source": [
    "class abc:\n",
    "    def __init__(self,nm,lnm):\n",
    "        self.name = nm\n",
    "        self.lname = lnm\n",
    "    def display(self):\n",
    "        print(self.name)\n",
    "        print(self.lname)\n",
    "class bsc(abc):\n",
    "    pass\n",
    "a = abc('lili','kuku')\n",
    "a.display()\n",
    "    "
   ]
  },
  {
   "cell_type": "code",
   "execution_count": 48,
   "id": "605c0aea",
   "metadata": {},
   "outputs": [
    {
     "name": "stdout",
     "output_type": "stream",
     "text": [
      "lili\n",
      "cs\n",
      "43\n"
     ]
    }
   ],
   "source": [
    "class stud:\n",
    "    def __init__(self,nm,sub,a):\n",
    "        self.name = nm\n",
    "        self.sub = sub\n",
    "        self.age = a\n",
    "    def display(self):\n",
    "        print(self.name)\n",
    "        print(self.sub)\n",
    "        print(self.age)\n",
    "class teacher(stud):\n",
    "    pass\n",
    "s = stud ('lili','cs',43)\n",
    "s.display()"
   ]
  },
  {
   "cell_type": "code",
   "execution_count": 49,
   "id": "17f7b44d",
   "metadata": {},
   "outputs": [
    {
     "name": "stdout",
     "output_type": "stream",
     "text": [
      "lili\n",
      "jain\n",
      "cs\n"
     ]
    }
   ],
   "source": [
    "class s:\n",
    "    def __init__(self,nm,lnm):\n",
    "        self.name = nm\n",
    "        self.lname = lnm\n",
    "    def display(self):\n",
    "        print(self.name)\n",
    "        print(self.lname)\n",
    "class st:\n",
    "    def __init__(self,nm,lnm,sub):\n",
    "        self.name = nm\n",
    "        self.lname = lnm\n",
    "        self.sub = sub\n",
    "    def display(self):\n",
    "        print(self.name)\n",
    "        print(self.lname)\n",
    "        print(self.sub)\n",
    "a = st('lili','jain','cs')\n",
    "a.display()"
   ]
  },
  {
   "cell_type": "code",
   "execution_count": 52,
   "id": "67c47a1c",
   "metadata": {},
   "outputs": [
    {
     "name": "stdout",
     "output_type": "stream",
     "text": [
      "lili\n",
      "kuku\n",
      "jojo\n",
      "cs\n"
     ]
    }
   ],
   "source": [
    "class a :\n",
    "    def __init__(self,nm,lnm,mnm):\n",
    "        self.name = nm\n",
    "        self.lname = lnm\n",
    "        self.mname = mnm\n",
    "    def display(self):\n",
    "        print(self.name)\n",
    "        print(self.lname)\n",
    "        print(self.mname)\n",
    "class b:\n",
    "    def __init__(self,nm,lnm,mnm,sub):\n",
    "        a.__init__(self,nm,lnm,mnm)\n",
    "        self.sub = sub\n",
    "    def display(self):\n",
    "        print(self.name)\n",
    "        print(self.lname)\n",
    "        print(self.mname)\n",
    "        print(self.sub)\n",
    "c = b('lili','kuku','jojo','cs')\n",
    "c.display()\n",
    "    "
   ]
  },
  {
   "cell_type": "code",
   "execution_count": 54,
   "id": "52f9ca7a",
   "metadata": {},
   "outputs": [
    {
     "name": "stdout",
     "output_type": "stream",
     "text": [
      "mango\n",
      "kiwi\n",
      "lemon\n",
      "cherry\n"
     ]
    }
   ],
   "source": [
    "class b:\n",
    "    def __init__(self,f1,f2,f3):\n",
    "        self.fname = f1\n",
    "        self.fname1 = f2\n",
    "        self.fname2 = f3\n",
    "    def display(self):\n",
    "        print(self.fname)\n",
    "        print(self.fname1)\n",
    "        print(self.fname2)\n",
    "class c:\n",
    "    def __init__(self,f1,f2,f3,f4):\n",
    "        b. __init__(self,f1,f2,f3)\n",
    "        self.fname3 = f4\n",
    "    def display(self):\n",
    "        print(self.fname)\n",
    "        print(self.fname1)\n",
    "        print(self.fname2)\n",
    "        print(self.fname3)\n",
    "x= c('mango','kiwi','lemon','cherry')\n",
    "x.display()"
   ]
  },
  {
   "cell_type": "markdown",
   "id": "59b1d2bc",
   "metadata": {},
   "source": [
    "### iteration"
   ]
  },
  {
   "cell_type": "code",
   "execution_count": 57,
   "id": "02d13822",
   "metadata": {},
   "outputs": [
    {
     "name": "stdout",
     "output_type": "stream",
     "text": [
      "<class 'tuple'>\n",
      "(11, 22, 33, 44, 55, 66)\n",
      "11\n",
      "22\n",
      "11\n",
      "22\n",
      "33\n",
      "44\n",
      "55\n",
      "66\n"
     ]
    }
   ],
   "source": [
    "tup = (11,22,33,44,55,66)\n",
    "print(type(tup))\n",
    "print(tup)\n",
    "itr = iter(tup)\n",
    "print(next(itr))\n",
    "print(next(itr))\n",
    "for i in tup:\n",
    "    print(i)"
   ]
  },
  {
   "cell_type": "code",
   "execution_count": 58,
   "id": "e921ca0a",
   "metadata": {},
   "outputs": [
    {
     "name": "stdout",
     "output_type": "stream",
     "text": [
      "<class 'list'>\n",
      "[1, 2, 3, 4, 5, 6, 7]\n",
      "1\n",
      "2\n"
     ]
    }
   ],
   "source": [
    "list1 = [1,2,3,4,5,6,7]\n",
    "print(type(list1))\n",
    "print(list1)\n",
    "itr = iter(list1)\n",
    "print(next(itr))\n",
    "print(next(itr))"
   ]
  },
  {
   "cell_type": "code",
   "execution_count": 60,
   "id": "9cbae610",
   "metadata": {},
   "outputs": [
    {
     "name": "stdout",
     "output_type": "stream",
     "text": [
      "{'name': 'lili', 'sub': 'cs', 'city': 'pune', 'age': 40}\n",
      "<class 'dict'>\n",
      "name\n",
      "sub\n",
      "('name', 'lili')\n",
      "('sub', 'cs')\n",
      "('city', 'pune')\n",
      "('age', 40)\n"
     ]
    }
   ],
   "source": [
    "dict1 = {\n",
    "    'name':'lili',\n",
    "    'sub': 'cs',\n",
    "    'city': 'pune',\n",
    "    'age': 40\n",
    "}\n",
    "print(dict1)\n",
    "print(type(dict1))\n",
    "itr = iter(dict1)\n",
    "print(next(itr))\n",
    "print(next(itr))\n",
    "for i in dict1.items():\n",
    "    print(i)\n"
   ]
  },
  {
   "cell_type": "code",
   "execution_count": 62,
   "id": "5ccb9a11",
   "metadata": {},
   "outputs": [
    {
     "name": "stdout",
     "output_type": "stream",
     "text": [
      "<class 'str'>\n",
      "hello world\n",
      "h\n",
      "h\n",
      "e\n",
      "l\n",
      "l\n",
      "o\n",
      " \n",
      "w\n",
      "o\n",
      "r\n",
      "l\n",
      "d\n"
     ]
    }
   ],
   "source": [
    "str1 = 'hello world'\n",
    "print(type(str1))\n",
    "print(str1)\n",
    "itr = iter(str1)\n",
    "print(next(itr))\n",
    "for i in str1:\n",
    "    print(i)"
   ]
  },
  {
   "cell_type": "code",
   "execution_count": 63,
   "id": "8ba19780",
   "metadata": {},
   "outputs": [
    {
     "name": "stdout",
     "output_type": "stream",
     "text": [
      "<class 'set'>\n",
      "{'bb', 'cc', 'dd', 'ee', 'aa'}\n",
      "bb\n",
      "cc\n"
     ]
    }
   ],
   "source": [
    "set1 = {'aa','bb','cc','dd','ee'}\n",
    "print(type(set1))\n",
    "print(set1)\n",
    "itr = iter(set1)\n",
    "print(next(itr))\n",
    "print(next(itr))"
   ]
  },
  {
   "cell_type": "code",
   "execution_count": 66,
   "id": "69b4e667",
   "metadata": {},
   "outputs": [
    {
     "name": "stdout",
     "output_type": "stream",
     "text": [
      "1\n",
      "2\n",
      "3\n",
      "4\n",
      "5\n",
      "6\n",
      "7\n",
      "8\n",
      "9\n"
     ]
    }
   ],
   "source": [
    "class counter:\n",
    "    def __iter__(self):\n",
    "        self. a = 1\n",
    "        return self\n",
    "    def __next__(self):\n",
    "        b = self.a\n",
    "        self.a+=1\n",
    "        if b ==10:\n",
    "            raise StopIteration\n",
    "        return b\n",
    "count = counter()\n",
    "\n",
    "itr = iter(count)\n",
    "\n",
    "for i in itr:\n",
    "    print(i)"
   ]
  },
  {
   "cell_type": "code",
   "execution_count": 67,
   "id": "f70c4cde",
   "metadata": {},
   "outputs": [
    {
     "name": "stdout",
     "output_type": "stream",
     "text": [
      "1\n",
      "2\n",
      "3\n",
      "4\n",
      "5\n",
      "6\n",
      "7\n",
      "8\n",
      "9\n",
      "10\n",
      "11\n",
      "12\n",
      "13\n",
      "14\n",
      "15\n",
      "16\n",
      "17\n",
      "18\n",
      "19\n",
      "20\n",
      "21\n",
      "22\n",
      "23\n",
      "24\n",
      "25\n"
     ]
    }
   ],
   "source": [
    "class count:\n",
    "    def __iter__(self):\n",
    "        self.a = 1\n",
    "        return self\n",
    "    def __next__(self):\n",
    "        b = self.a\n",
    "        self.a +=1\n",
    "        if b ==26:\n",
    "            raise StopIteration\n",
    "        return b\n",
    "c = count()\n",
    "itr =iter(c)\n",
    "for i in itr:\n",
    "    print(i)"
   ]
  },
  {
   "cell_type": "code",
   "execution_count": 69,
   "id": "b13e9e19",
   "metadata": {},
   "outputs": [
    {
     "name": "stdout",
     "output_type": "stream",
     "text": [
      "1\n",
      "2\n",
      "3\n",
      "4\n",
      "5\n",
      "6\n",
      "7\n",
      "8\n",
      "9\n",
      "10\n",
      "11\n",
      "12\n",
      "13\n",
      "14\n",
      "15\n",
      "16\n",
      "17\n",
      "18\n",
      "19\n",
      "20\n"
     ]
    }
   ],
   "source": [
    "class count:\n",
    "    def __iter__(self):\n",
    "        self.a = 1\n",
    "        return self\n",
    "    def __next__(self):\n",
    "        b = self.a\n",
    "        self.a +=1\n",
    "        if b ==21:\n",
    "            raise StopIteration\n",
    "        return b    \n",
    "c = count()\n",
    "itr = iter(c)\n",
    "for i in itr:\n",
    "    print(i)\n",
    "        "
   ]
  },
  {
   "cell_type": "markdown",
   "id": "105b5f7b",
   "metadata": {},
   "source": [
    "### scope of variable"
   ]
  },
  {
   "cell_type": "code",
   "execution_count": 74,
   "id": "e4b5d760",
   "metadata": {},
   "outputs": [
    {
     "name": "stdout",
     "output_type": "stream",
     "text": [
      "10\n",
      "20\n",
      "100\n",
      "200\n"
     ]
    }
   ],
   "source": [
    "a = 100\n",
    "b = 200\n",
    "def add():\n",
    "    a = 10\n",
    "    b = 20\n",
    "    print(a)\n",
    "    print(b)\n",
    "    return a+b\n",
    "\n",
    "add()\n",
    "print(a)\n",
    "print(b)"
   ]
  },
  {
   "cell_type": "code",
   "execution_count": 75,
   "id": "00093c3e",
   "metadata": {},
   "outputs": [
    {
     "name": "stdout",
     "output_type": "stream",
     "text": [
      "100\n",
      "30\n",
      "20\n",
      "40\n"
     ]
    }
   ],
   "source": [
    "x = 20\n",
    "y = 40\n",
    "def mul():\n",
    "    x = 100\n",
    "    y = 30\n",
    "    print(x)\n",
    "    print(y)\n",
    "    return x*y\n",
    "mul()\n",
    "print(x)\n",
    "print(y)"
   ]
  },
  {
   "cell_type": "code",
   "execution_count": 76,
   "id": "5d53057c",
   "metadata": {},
   "outputs": [
    {
     "name": "stdout",
     "output_type": "stream",
     "text": [
      "20\n",
      "40\n",
      "100\n",
      "200\n"
     ]
    }
   ],
   "source": [
    "a = 100\n",
    "b =200\n",
    "def sub():\n",
    "    a = 20\n",
    "    b = 40\n",
    "    print(a)\n",
    "    print(b)\n",
    "    return sub\n",
    "sub()\n",
    "print(a)\n",
    "print(b)"
   ]
  },
  {
   "cell_type": "code",
   "execution_count": 77,
   "id": "0d3ccac4",
   "metadata": {},
   "outputs": [
    {
     "name": "stdout",
     "output_type": "stream",
     "text": [
      "20\n",
      "40\n",
      "100\n",
      "200\n",
      "3.14\n",
      "100\n",
      "200\n",
      "3.14\n"
     ]
    }
   ],
   "source": [
    "a = 100\n",
    "b = 200\n",
    "def add():\n",
    "    a = 20\n",
    "    b = 40\n",
    "    global pi\n",
    "    pi = 3.14\n",
    "    print(a)\n",
    "    print(b)\n",
    "    return a+b\n",
    "def display(x,y):\n",
    "    print(x)\n",
    "    print(y)\n",
    "    print(pi)\n",
    "add()\n",
    "display(a,b)\n",
    "print(a)\n",
    "print(b)\n",
    "print(pi)"
   ]
  },
  {
   "cell_type": "code",
   "execution_count": 79,
   "id": "e2a7d074",
   "metadata": {},
   "outputs": [
    {
     "name": "stdout",
     "output_type": "stream",
     "text": [
      "100\n",
      "200\n",
      "200\n",
      "400\n",
      "3.14\n",
      "200\n",
      "400\n",
      "3.14\n"
     ]
    }
   ],
   "source": [
    "x = 200\n",
    "y = 400\n",
    "def mul():\n",
    "    x = 10\n",
    "    y = 20\n",
    "    global pi\n",
    "    pi = 3.14\n",
    "    print(a)\n",
    "    print(b)\n",
    "    return a+b\n",
    "def display(a,b):\n",
    "    print(a)\n",
    "    print(b)\n",
    "    print(pi)\n",
    "mul()\n",
    "display(x,y)\n",
    "print(x)\n",
    "print(y)\n",
    "print(pi)\n",
    "    \n"
   ]
  },
  {
   "cell_type": "code",
   "execution_count": 80,
   "id": "db802bcd",
   "metadata": {},
   "outputs": [
    {
     "name": "stdout",
     "output_type": "stream",
     "text": [
      "100\n",
      "200\n",
      "10\n",
      "20\n",
      "3.14\n",
      "10\n",
      "20\n",
      "3.14\n"
     ]
    }
   ],
   "source": [
    "a = 10\n",
    "b = 20\n",
    "def add():\n",
    "    a =100\n",
    "    b = 200\n",
    "    global pi\n",
    "    pi = 3.14\n",
    "    print(a)\n",
    "    print(b)\n",
    "    return a+b\n",
    "def display(x,y):\n",
    "    print(x)\n",
    "    print(y)\n",
    "    print(pi)\n",
    "add()\n",
    "display(a,b)\n",
    "print(a)\n",
    "print(b)\n",
    "print(pi)"
   ]
  },
  {
   "cell_type": "markdown",
   "id": "bdac7619",
   "metadata": {},
   "source": [
    "### datetime"
   ]
  },
  {
   "cell_type": "code",
   "execution_count": 85,
   "id": "c920c347",
   "metadata": {},
   "outputs": [
    {
     "name": "stdout",
     "output_type": "stream",
     "text": [
      "9999\n",
      "1\n"
     ]
    }
   ],
   "source": [
    "import datetime\n",
    "print(datetime.MAXYEAR)\n",
    "print(datetime.MINYEAR)"
   ]
  },
  {
   "cell_type": "code",
   "execution_count": 88,
   "id": "311bfd01",
   "metadata": {},
   "outputs": [
    {
     "name": "stdout",
     "output_type": "stream",
     "text": [
      "2023\n",
      "8\n",
      "17\n"
     ]
    }
   ],
   "source": [
    "a = datetime.datetime.now()\n",
    "print(a.year)\n",
    "print(a.month)\n",
    "print(a.day)"
   ]
  },
  {
   "cell_type": "code",
   "execution_count": 89,
   "id": "78b1e154",
   "metadata": {},
   "outputs": [
    {
     "name": "stdout",
     "output_type": "stream",
     "text": [
      "2022-03-01 00:00:00\n"
     ]
    }
   ],
   "source": [
    "a = datetime.datetime(2022,3,1)\n",
    "print(a)"
   ]
  },
  {
   "cell_type": "code",
   "execution_count": 98,
   "id": "c0fd8229",
   "metadata": {},
   "outputs": [
    {
     "name": "stdout",
     "output_type": "stream",
     "text": [
      "2023\n",
      "Thursday\n",
      "Thu\n",
      "2023\n",
      "23\n",
      "53\n",
      "15\n",
      "August\n",
      "Aug\n"
     ]
    }
   ],
   "source": [
    "a = datetime.datetime.now()\n",
    "print(a.year)\n",
    "print(a.strftime('%A'))\n",
    "print(a.strftime('%a'))\n",
    "print(a.strftime('%Y'))\n",
    "print(a.strftime('%y'))\n",
    "print(a.strftime('%S'))\n",
    "print(a.strftime('%H'))\n",
    "print(a.strftime('%B'))\n",
    "print(a.strftime('%b'))"
   ]
  },
  {
   "cell_type": "code",
   "execution_count": 110,
   "id": "2680d126",
   "metadata": {},
   "outputs": [
    {
     "name": "stdout",
     "output_type": "stream",
     "text": [
      "9999\n",
      "1\n",
      "2020-11-02 00:00:00\n",
      "2023-08-17 15:35:43.738014\n",
      "8\n",
      "Thursday\n",
      "Thu\n",
      "August\n",
      "Aug\n",
      "4\n",
      "15\n",
      "2023\n"
     ]
    }
   ],
   "source": [
    "import datetime\n",
    "print(datetime.MAXYEAR)\n",
    "print(datetime.MINYEAR)\n",
    "a = datetime.datetime(2020,11,2)\n",
    "print(a)\n",
    "b = datetime.datetime.now()\n",
    "print(b)\n",
    "c = datetime.datetime.now()\n",
    "print(c.month)\n",
    "print(c.strftime('%A'))\n",
    "print(c.strftime('%a'))\n",
    "print(c.strftime('%B'))\n",
    "print(c.strftime('%b'))\n",
    "print(c.strftime('%w'))\n",
    "print(c.strftime('%H'))\n",
    "print(c.strftime('%Y'))"
   ]
  },
  {
   "cell_type": "code",
   "execution_count": 111,
   "id": "1194c21e",
   "metadata": {},
   "outputs": [
    {
     "data": {
      "text/plain": [
       "'Windows'"
      ]
     },
     "execution_count": 111,
     "metadata": {},
     "output_type": "execute_result"
    }
   ],
   "source": [
    "import platform\n",
    "platform.system()"
   ]
  },
  {
   "cell_type": "code",
   "execution_count": 112,
   "id": "c8b40c70",
   "metadata": {},
   "outputs": [
    {
     "data": {
      "text/plain": [
       "'Windows'"
      ]
     },
     "execution_count": 112,
     "metadata": {},
     "output_type": "execute_result"
    }
   ],
   "source": [
    "import platform\n",
    "platform.system()"
   ]
  },
  {
   "cell_type": "markdown",
   "id": "06158fb0",
   "metadata": {},
   "source": [
    "### math module"
   ]
  },
  {
   "cell_type": "code",
   "execution_count": 113,
   "id": "dc85f477",
   "metadata": {},
   "outputs": [
    {
     "name": "stdout",
     "output_type": "stream",
     "text": [
      "2\n"
     ]
    }
   ],
   "source": [
    "a = min(2,3,4,5)\n",
    "print(a)\n"
   ]
  },
  {
   "cell_type": "code",
   "execution_count": 114,
   "id": "d7d3adf4",
   "metadata": {},
   "outputs": [
    {
     "name": "stdout",
     "output_type": "stream",
     "text": [
      "44\n"
     ]
    }
   ],
   "source": [
    "b = max(22,33,44)\n",
    "print(b)\n"
   ]
  },
  {
   "cell_type": "code",
   "execution_count": 115,
   "id": "25a425a5",
   "metadata": {},
   "outputs": [
    {
     "name": "stdout",
     "output_type": "stream",
     "text": [
      "10\n"
     ]
    }
   ],
   "source": [
    "c = abs(-10)\n",
    "print(c)"
   ]
  },
  {
   "cell_type": "code",
   "execution_count": 116,
   "id": "6e5fceef",
   "metadata": {},
   "outputs": [
    {
     "name": "stdout",
     "output_type": "stream",
     "text": [
      "8000\n"
     ]
    }
   ],
   "source": [
    "d = pow(20,3)\n",
    "print(d)"
   ]
  },
  {
   "cell_type": "code",
   "execution_count": 124,
   "id": "d003c45e",
   "metadata": {},
   "outputs": [
    {
     "name": "stdout",
     "output_type": "stream",
     "text": [
      "3.1622776601683795\n",
      "10.0\n",
      "10\n",
      "12\n",
      "2.718281828459045\n",
      "3.141592653589793\n",
      "nan\n",
      "<class 'float'>\n"
     ]
    }
   ],
   "source": [
    "import math as m\n",
    "a = 10\n",
    "b = m.sqrt(a)\n",
    "print(b)\n",
    "a = m.sqrt(100)\n",
    "print(a)\n",
    "b = m.floor(10.2)\n",
    "print(b)\n",
    "c = m.ceil(11.2)\n",
    "print(c)\n",
    "d = m.e\n",
    "print(d)\n",
    "e = m.pi\n",
    "print(e)\n",
    "a = m.nan\n",
    "print(a)\n",
    "print(type(a))"
   ]
  },
  {
   "cell_type": "markdown",
   "id": "62a2e92a",
   "metadata": {},
   "source": [
    "### json"
   ]
  },
  {
   "cell_type": "code",
   "execution_count": 126,
   "id": "5fedb10c",
   "metadata": {},
   "outputs": [
    {
     "name": "stdout",
     "output_type": "stream",
     "text": [
      "<class 'str'>\n",
      "{\"name\":\"lili\",\"sub\":\"cs\",\"city\":\"pune\"}\n",
      "<class 'dict'>\n",
      "{'name': 'lili', 'sub': 'cs', 'city': 'pune'}\n"
     ]
    }
   ],
   "source": [
    "import json\n",
    "a = '{\"name\":\"lili\",\"sub\":\"cs\",\"city\":\"pune\"}'\n",
    "print(type(a))\n",
    "print(a)\n",
    "b = json.loads(a)\n",
    "print(type(b))\n",
    "print(b)"
   ]
  },
  {
   "cell_type": "code",
   "execution_count": 129,
   "id": "a0c00ccd",
   "metadata": {},
   "outputs": [
    {
     "name": "stdout",
     "output_type": "stream",
     "text": [
      "{'name': 'lili', 'sub': 'cs', 'age': 30}\n",
      "<class 'dict'>\n",
      "<class 'str'>\n",
      "{\"name\": \"lili\", \"sub\": \"cs\", \"age\": 30}\n"
     ]
    }
   ],
   "source": [
    "a = {\n",
    "    'name': 'lili',\n",
    "    'sub': 'cs',\n",
    "    'age': 30\n",
    "}\n",
    "print(a)\n",
    "print(type(a))\n",
    "b = json.dumps(a)\n",
    "print(type(b))\n",
    "print(b)"
   ]
  },
  {
   "cell_type": "code",
   "execution_count": 130,
   "id": "fcd438cf",
   "metadata": {},
   "outputs": [
    {
     "name": "stdout",
     "output_type": "stream",
     "text": [
      "<class 'tuple'>\n",
      "('sham', 20, 30, 'riya')\n",
      "<class 'str'>\n",
      "[\"sham\", 20, 30, \"riya\"]\n"
     ]
    }
   ],
   "source": [
    "b = ('sham',20,30,'riya')\n",
    "print(type(b))\n",
    "print(b)\n",
    "c = json.dumps(b)\n",
    "print(type(c))\n",
    "print(c)"
   ]
  },
  {
   "cell_type": "code",
   "execution_count": 131,
   "id": "78e771b3",
   "metadata": {},
   "outputs": [
    {
     "name": "stdout",
     "output_type": "stream",
     "text": [
      "<class 'tuple'>\n",
      "(1, 2, 3, 4, 5, 6, 7)\n",
      "<class 'str'>\n",
      "[1, 2, 3, 4, 5, 6, 7]\n"
     ]
    }
   ],
   "source": [
    "tup = (1,2,3,4,5,6,7)\n",
    "print(type(tup))\n",
    "print(tup)\n",
    "s = json.dumps(tup)\n",
    "print(type(s))\n",
    "print(s)"
   ]
  },
  {
   "cell_type": "code",
   "execution_count": 134,
   "id": "6bbe9a8d",
   "metadata": {},
   "outputs": [
    {
     "name": "stdout",
     "output_type": "stream",
     "text": [
      "<class 'dict'>\n",
      "{'name': 'lili', 'sub': 'cs', 'age': 30, 'city': 'pune', 'veg': True, 'nonveg': False, 'model': 'tata'}\n",
      "30\n",
      "True\n",
      "{\n",
      "    \"age\"=30-\n",
      "    \"city\"=\"pune\"-\n",
      "    \"model\"=\"tata\"-\n",
      "    \"name\"=\"lili\"-\n",
      "    \"nonveg\"=false-\n",
      "    \"sub\"=\"cs\"-\n",
      "    \"veg\"=true\n",
      "}\n"
     ]
    }
   ],
   "source": [
    "import json\n",
    "a = {\n",
    "    'name': 'lili',\n",
    "    'sub': 'cs',\n",
    "    'age':30,\n",
    "    'city':'pune',\n",
    "    'veg': True,\n",
    "    'nonveg': False,\n",
    "    'model':'tata'\n",
    "}\n",
    "print(type(a))\n",
    "print(a)\n",
    "print(a['age'])\n",
    "print(a['veg'])\n",
    "print(json.dumps(a, indent = 4, separators = ('-','='), sort_keys = True))\n"
   ]
  },
  {
   "cell_type": "code",
   "execution_count": 137,
   "id": "c7423110",
   "metadata": {},
   "outputs": [
    {
     "name": "stdout",
     "output_type": "stream",
     "text": [
      "yes match\n"
     ]
    }
   ],
   "source": [
    "import re\n",
    "a = 'this is python'\n",
    "b = re.search('^this.*python$',a)\n",
    "if b:\n",
    "    print('yes match')\n",
    "else:\n",
    "    print('no match')"
   ]
  },
  {
   "cell_type": "code",
   "execution_count": 141,
   "id": "851b7662",
   "metadata": {},
   "outputs": [
    {
     "name": "stdout",
     "output_type": "stream",
     "text": [
      "no match\n"
     ]
    }
   ],
   "source": [
    "import re\n",
    "x = 'my name is lili'\n",
    "y = re.search('^my.*lili$',x)\n",
    "if y:\n",
    "    print('no match')\n",
    "else:\n",
    "    print('yes')"
   ]
  },
  {
   "cell_type": "code",
   "execution_count": 143,
   "id": "fd98d0b2",
   "metadata": {},
   "outputs": [
    {
     "name": "stdout",
     "output_type": "stream",
     "text": [
      "(0, 28)\n",
      "0\n",
      "28\n",
      "my name is lili my age is 20\n",
      "my name is lili my age is 20\n",
      "yes match\n"
     ]
    }
   ],
   "source": [
    "a = 'my name is lili my age is 20'\n",
    "b = re.search('^my.*20$',a)\n",
    "print(b.span())\n",
    "print(b.start())\n",
    "print(b.end())\n",
    "print(b.string)\n",
    "print(b.group())\n",
    "if b:\n",
    "    print('yes match')\n",
    "else:\n",
    "    print('no match')"
   ]
  },
  {
   "cell_type": "code",
   "execution_count": 151,
   "id": "0d92dcaf",
   "metadata": {},
   "outputs": [
    {
     "name": "stdout",
     "output_type": "stream",
     "text": [
      "['s', 's', 's']\n",
      "3\n",
      "['my', 'sub', 'is', 'cs']\n",
      "['my sub ', 's cs']\n",
      "['my', 'sub', 'is cs']\n",
      "my\tsub\tis\tcs\n",
      "my==sub==is==cs\n"
     ]
    }
   ],
   "source": [
    "a = 'my sub is cs'\n",
    "b = re.findall('s',a)\n",
    "print(b)\n",
    "print(len(b))\n",
    "b = re.split('\\s',a)\n",
    "print(b)\n",
    "b = re.split('i',a)\n",
    "print(b)\n",
    "b = re.split('\\s',a,2)\n",
    "print(b)\n",
    "c = re.sub('\\s','\\t',a)\n",
    "print(c)\n",
    "c = re.sub('\\s','==',a)\n",
    "print(c)"
   ]
  },
  {
   "cell_type": "markdown",
   "id": "35b2634e",
   "metadata": {},
   "source": [
    "### excepting handling"
   ]
  },
  {
   "cell_type": "code",
   "execution_count": 152,
   "id": "69b3cec7",
   "metadata": {},
   "outputs": [
    {
     "name": "stdout",
     "output_type": "stream",
     "text": [
      "hi\n"
     ]
    }
   ],
   "source": [
    "try:\n",
    "    print('hi')\n",
    "except:\n",
    "    print('hello')"
   ]
  },
  {
   "cell_type": "code",
   "execution_count": 155,
   "id": "e9cb43d2",
   "metadata": {},
   "outputs": [
    {
     "name": "stdout",
     "output_type": "stream",
     "text": [
      "hi\n"
     ]
    }
   ],
   "source": [
    "try:\n",
    "    print(z)\n",
    "except:\n",
    "    print('hi')    "
   ]
  },
  {
   "cell_type": "code",
   "execution_count": 156,
   "id": "9b4e2142",
   "metadata": {},
   "outputs": [
    {
     "name": "stdout",
     "output_type": "stream",
     "text": [
      "hi\n"
     ]
    }
   ],
   "source": [
    "try:\n",
    "    print('hi')\n",
    "except ValueError:\n",
    "    print('hello')\n",
    "except:\n",
    "    print('hi')"
   ]
  },
  {
   "cell_type": "code",
   "execution_count": 157,
   "id": "6bbbe170",
   "metadata": {},
   "outputs": [
    {
     "name": "stdout",
     "output_type": "stream",
     "text": [
      "hello\n",
      "hey\n"
     ]
    }
   ],
   "source": [
    "try:\n",
    "    print('hello')\n",
    "except:\n",
    "    print('hi')\n",
    "else:\n",
    "    print('hey')"
   ]
  },
  {
   "cell_type": "code",
   "execution_count": 158,
   "id": "b98470be",
   "metadata": {},
   "outputs": [
    {
     "name": "stdout",
     "output_type": "stream",
     "text": [
      "hi\n",
      "hey\n"
     ]
    }
   ],
   "source": [
    "try:\n",
    "    print('hi')\n",
    "except:\n",
    "    print('hello')\n",
    "finally:\n",
    "    print('hey')"
   ]
  },
  {
   "cell_type": "code",
   "execution_count": 159,
   "id": "3e2adea0",
   "metadata": {},
   "outputs": [
    {
     "name": "stdout",
     "output_type": "stream",
     "text": [
      "enter the number20\n"
     ]
    }
   ],
   "source": [
    "while True:\n",
    "    try:\n",
    "        a = int(input('enter the number'))\n",
    "        break\n",
    "    except:\n",
    "        print('hii')"
   ]
  },
  {
   "cell_type": "code",
   "execution_count": 161,
   "id": "12a52ac4",
   "metadata": {},
   "outputs": [
    {
     "name": "stdout",
     "output_type": "stream",
     "text": [
      "2\n",
      "3\n",
      "4\n",
      "5\n",
      "6\n",
      "hii\n"
     ]
    }
   ],
   "source": [
    "try:\n",
    "    a = [1,2,3,4,5,6]\n",
    "    for i in a:\n",
    "        print(a[i])\n",
    "except:\n",
    "    print('hii')\n",
    "        "
   ]
  },
  {
   "cell_type": "code",
   "execution_count": 162,
   "id": "96312023",
   "metadata": {},
   "outputs": [
    {
     "name": "stdout",
     "output_type": "stream",
     "text": [
      "hii\n",
      "hello\n"
     ]
    }
   ],
   "source": [
    "try:\n",
    "    x =[111,222,333,444,555]\n",
    "    for i in x:\n",
    "        print(x[i])\n",
    "except:\n",
    "    print('hii')\n",
    "finally:\n",
    "    print('hello')"
   ]
  },
  {
   "cell_type": "code",
   "execution_count": 163,
   "id": "5d877c2d",
   "metadata": {},
   "outputs": [
    {
     "name": "stdout",
     "output_type": "stream",
     "text": [
      "hi\n"
     ]
    }
   ],
   "source": [
    "try:\n",
    "    z = [11,22,3,45]\n",
    "    for i in z:\n",
    "        print(z[i])\n",
    "except:\n",
    "    print('hi')\n",
    "else:\n",
    "    print('hello')"
   ]
  },
  {
   "cell_type": "code",
   "execution_count": 164,
   "id": "50ca3eda",
   "metadata": {},
   "outputs": [
    {
     "name": "stdout",
     "output_type": "stream",
     "text": [
      "10\n",
      "hello\n"
     ]
    }
   ],
   "source": [
    "a = 10\n",
    "try:\n",
    "    print(a)\n",
    "except:\n",
    "    print('hi')\n",
    "else:\n",
    "    print('hello')"
   ]
  },
  {
   "cell_type": "code",
   "execution_count": 166,
   "id": "aaf550c6",
   "metadata": {},
   "outputs": [
    {
     "name": "stdout",
     "output_type": "stream",
     "text": [
      "hii\n",
      "hey\n"
     ]
    }
   ],
   "source": [
    "b = 20\n",
    "try:\n",
    "    print('hii')\n",
    "except:\n",
    "    print('hello')\n",
    "finally:\n",
    "    print('hey')"
   ]
  },
  {
   "cell_type": "code",
   "execution_count": 167,
   "id": "6d97d2e7",
   "metadata": {},
   "outputs": [
    {
     "ename": "Exception",
     "evalue": "sorry",
     "output_type": "error",
     "traceback": [
      "\u001b[1;31m---------------------------------------------------------------------------\u001b[0m",
      "\u001b[1;31mException\u001b[0m                                 Traceback (most recent call last)",
      "Cell \u001b[1;32mIn[167], line 3\u001b[0m\n\u001b[0;32m      1\u001b[0m a \u001b[38;5;241m=\u001b[39m \u001b[38;5;241m-\u001b[39m\u001b[38;5;241m10\u001b[39m\n\u001b[0;32m      2\u001b[0m \u001b[38;5;28;01mif\u001b[39;00m a\u001b[38;5;241m<\u001b[39m \u001b[38;5;241m0\u001b[39m:\n\u001b[1;32m----> 3\u001b[0m     \u001b[38;5;28;01mraise\u001b[39;00m \u001b[38;5;167;01mException\u001b[39;00m(\u001b[38;5;124m'\u001b[39m\u001b[38;5;124msorry\u001b[39m\u001b[38;5;124m'\u001b[39m)\n",
      "\u001b[1;31mException\u001b[0m: sorry"
     ]
    }
   ],
   "source": [
    "a = -10\n",
    "if a< 0:\n",
    "    raise Exception('sorry')\n",
    "    "
   ]
  },
  {
   "cell_type": "code",
   "execution_count": 168,
   "id": "fac38170",
   "metadata": {},
   "outputs": [
    {
     "ename": "TypeError",
     "evalue": "no match",
     "output_type": "error",
     "traceback": [
      "\u001b[1;31m---------------------------------------------------------------------------\u001b[0m",
      "\u001b[1;31mTypeError\u001b[0m                                 Traceback (most recent call last)",
      "Cell \u001b[1;32mIn[168], line 3\u001b[0m\n\u001b[0;32m      1\u001b[0m b \u001b[38;5;241m=\u001b[39m \u001b[38;5;241m-\u001b[39m\u001b[38;5;241m20\u001b[39m\n\u001b[0;32m      2\u001b[0m \u001b[38;5;28;01mif\u001b[39;00m b \u001b[38;5;241m<\u001b[39m\u001b[38;5;241m0\u001b[39m:\n\u001b[1;32m----> 3\u001b[0m     \u001b[38;5;28;01mraise\u001b[39;00m \u001b[38;5;167;01mTypeError\u001b[39;00m (\u001b[38;5;124m'\u001b[39m\u001b[38;5;124mno match\u001b[39m\u001b[38;5;124m'\u001b[39m)\n",
      "\u001b[1;31mTypeError\u001b[0m: no match"
     ]
    }
   ],
   "source": [
    "b = -20\n",
    "if b <0:\n",
    "    raise TypeError ('no match')"
   ]
  },
  {
   "cell_type": "code",
   "execution_count": 169,
   "id": "17848068",
   "metadata": {},
   "outputs": [],
   "source": [
    "a = 10\n",
    "if not type(a) is int:\n",
    "    raise Exception('no match')\n"
   ]
  },
  {
   "cell_type": "markdown",
   "id": "4d5f79d3",
   "metadata": {},
   "source": [
    "### string formatting"
   ]
  },
  {
   "cell_type": "code",
   "execution_count": 170,
   "id": "a2bc31e0",
   "metadata": {},
   "outputs": [
    {
     "name": "stdout",
     "output_type": "stream",
     "text": [
      "the value is 100\n"
     ]
    }
   ],
   "source": [
    "a = 100\n",
    "b = 'the value is {}'\n",
    "print(b.format(a))"
   ]
  },
  {
   "cell_type": "code",
   "execution_count": 171,
   "id": "222a961f",
   "metadata": {},
   "outputs": [
    {
     "name": "stdout",
     "output_type": "stream",
     "text": [
      "the value is 100\n"
     ]
    }
   ],
   "source": [
    "a = 100\n",
    "b = 'the value is {}'\n",
    "print(b.format(a))"
   ]
  },
  {
   "cell_type": "code",
   "execution_count": 172,
   "id": "0612d80c",
   "metadata": {},
   "outputs": [
    {
     "name": "stdout",
     "output_type": "stream",
     "text": [
      "the value is a 10 the value b 20 the value c 30\n"
     ]
    }
   ],
   "source": [
    "a = 10\n",
    "b = 20\n",
    "c =30\n",
    "print('the value is a {} the value b {} the value c {}'.format(a,b,c))"
   ]
  },
  {
   "cell_type": "code",
   "execution_count": 173,
   "id": "f2f6d75d",
   "metadata": {},
   "outputs": [
    {
     "name": "stdout",
     "output_type": "stream",
     "text": [
      "the value is a 20 the value is b 10\n"
     ]
    }
   ],
   "source": [
    "a = 10\n",
    "b = 20\n",
    "print('the value is a {1} the value is b {0}'.format(a,b))"
   ]
  },
  {
   "cell_type": "code",
   "execution_count": 174,
   "id": "1f5ebce6",
   "metadata": {},
   "outputs": [
    {
     "name": "stdout",
     "output_type": "stream",
     "text": [
      "the value is a 100 the value is b 200.00 the value is c 300\n"
     ]
    }
   ],
   "source": [
    "a = 100\n",
    "b = 200\n",
    "c = 300\n",
    "print('the value is a {} the value is b {:.2f} the value is c {}'.format(a,b,c))"
   ]
  },
  {
   "cell_type": "code",
   "execution_count": 175,
   "id": "54c9e9cf",
   "metadata": {},
   "outputs": [
    {
     "name": "stdout",
     "output_type": "stream",
     "text": [
      "my name is lili my age is 20 my sub is cs\n"
     ]
    }
   ],
   "source": [
    "name = 'lili'\n",
    "age = 20\n",
    "sub = 'cs'\n",
    "a = 'my name is {} my age is {} my sub is {}'\n",
    "print(a.format(name,age,sub))"
   ]
  },
  {
   "cell_type": "code",
   "execution_count": 176,
   "id": "d134127d",
   "metadata": {},
   "outputs": [
    {
     "name": "stdout",
     "output_type": "stream",
     "text": [
      "my name is lili my sub is cs\n"
     ]
    }
   ],
   "source": [
    "name = 'lili'\n",
    "sub = 'cs'\n",
    "a = 'my name is {n} my sub is {s}'\n",
    "print(a.format(n = name, s = sub))"
   ]
  },
  {
   "cell_type": "markdown",
   "id": "c98aa5df",
   "metadata": {},
   "source": [
    "### file handling\n"
   ]
  },
  {
   "cell_type": "code",
   "execution_count": 183,
   "id": "b782ea5e",
   "metadata": {},
   "outputs": [
    {
     "name": "stdout",
     "output_type": "stream",
     "text": [
      "hello world\n",
      "hello python \n",
      "good morningthis is new addthis is new addthis is new add\n",
      "\n",
      "\n",
      "\n"
     ]
    }
   ],
   "source": [
    "f = open('abc.txt','r')\n",
    "print(f.read())\n",
    "print(f.readline())\n",
    "print(f.readline())\n",
    "for i in f:\n",
    "    print(i)\n",
    "print(f.read(4))    "
   ]
  },
  {
   "cell_type": "code",
   "execution_count": 187,
   "id": "ed470230",
   "metadata": {},
   "outputs": [
    {
     "name": "stdout",
     "output_type": "stream",
     "text": [
      "hello\n",
      "hey\n",
      "hi\n",
      "good night\n",
      "\n",
      "\n",
      "\n"
     ]
    }
   ],
   "source": [
    "f = open('ab.txt','r')\n",
    "print(f.read())\n",
    "print(f.read(3))\n",
    "print(f.readline())\n",
    "print(f.readline())"
   ]
  },
  {
   "cell_type": "code",
   "execution_count": 193,
   "id": "6210d7af",
   "metadata": {},
   "outputs": [
    {
     "name": "stdout",
     "output_type": "stream",
     "text": [
      "this is new\n",
      "<built-in method write of _io.TextIOWrapper object at 0x0000026FCD2D58A0>\n"
     ]
    }
   ],
   "source": [
    "f = open('ab.txt','a')\n",
    "a = 'this is new'\n",
    "f.write(a)\n",
    "f = open('ab.txt','r')\n",
    "print(f.read())\n",
    "f = open('ab.txt','w')\n",
    "print(f.write)"
   ]
  },
  {
   "cell_type": "code",
   "execution_count": 194,
   "id": "aed22db0",
   "metadata": {},
   "outputs": [],
   "source": [
    "f = open('aaa.txt','x')\n"
   ]
  },
  {
   "cell_type": "code",
   "execution_count": 198,
   "id": "58638eac",
   "metadata": {},
   "outputs": [
    {
     "name": "stdout",
     "output_type": "stream",
     "text": [
      "hello \n",
      " good morninghello \n",
      " good morninghello \n",
      " good morning\n",
      "hello \n",
      " good morning\n"
     ]
    }
   ],
   "source": [
    "f = open('aaa.txt','a')\n",
    "x = 'hello \\n good morning'\n",
    "f.write(x)\n",
    "f = open('aaa.txt','r')\n",
    "print(f.read())"
   ]
  },
  {
   "cell_type": "code",
   "execution_count": null,
   "id": "d62bd67c",
   "metadata": {},
   "outputs": [],
   "source": []
  }
 ],
 "metadata": {
  "kernelspec": {
   "display_name": "Python 3 (ipykernel)",
   "language": "python",
   "name": "python3"
  },
  "language_info": {
   "codemirror_mode": {
    "name": "ipython",
    "version": 3
   },
   "file_extension": ".py",
   "mimetype": "text/x-python",
   "name": "python",
   "nbconvert_exporter": "python",
   "pygments_lexer": "ipython3",
   "version": "3.10.3"
  }
 },
 "nbformat": 4,
 "nbformat_minor": 5
}
